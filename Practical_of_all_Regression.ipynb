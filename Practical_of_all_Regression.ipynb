{
 "cells": [
  {
   "cell_type": "code",
   "execution_count": 1,
   "id": "61934423",
   "metadata": {},
   "outputs": [],
   "source": [
    "#import dataset\n",
    "\n",
    "import pandas as pd\n",
    "\n",
    "data=pd.read_csv(\"placement.csv\")"
   ]
  },
  {
   "cell_type": "code",
   "execution_count": 2,
   "id": "71704d4c",
   "metadata": {},
   "outputs": [
    {
     "data": {
      "text/html": [
       "<div>\n",
       "<style scoped>\n",
       "    .dataframe tbody tr th:only-of-type {\n",
       "        vertical-align: middle;\n",
       "    }\n",
       "\n",
       "    .dataframe tbody tr th {\n",
       "        vertical-align: top;\n",
       "    }\n",
       "\n",
       "    .dataframe thead th {\n",
       "        text-align: right;\n",
       "    }\n",
       "</style>\n",
       "<table border=\"1\" class=\"dataframe\">\n",
       "  <thead>\n",
       "    <tr style=\"text-align: right;\">\n",
       "      <th></th>\n",
       "      <th>cgpa</th>\n",
       "      <th>package</th>\n",
       "    </tr>\n",
       "  </thead>\n",
       "  <tbody>\n",
       "    <tr>\n",
       "      <th>0</th>\n",
       "      <td>6.89</td>\n",
       "      <td>3.26</td>\n",
       "    </tr>\n",
       "    <tr>\n",
       "      <th>1</th>\n",
       "      <td>5.12</td>\n",
       "      <td>1.98</td>\n",
       "    </tr>\n",
       "    <tr>\n",
       "      <th>2</th>\n",
       "      <td>7.82</td>\n",
       "      <td>3.25</td>\n",
       "    </tr>\n",
       "    <tr>\n",
       "      <th>3</th>\n",
       "      <td>7.42</td>\n",
       "      <td>3.67</td>\n",
       "    </tr>\n",
       "    <tr>\n",
       "      <th>4</th>\n",
       "      <td>6.94</td>\n",
       "      <td>3.57</td>\n",
       "    </tr>\n",
       "    <tr>\n",
       "      <th>...</th>\n",
       "      <td>...</td>\n",
       "      <td>...</td>\n",
       "    </tr>\n",
       "    <tr>\n",
       "      <th>195</th>\n",
       "      <td>6.93</td>\n",
       "      <td>2.46</td>\n",
       "    </tr>\n",
       "    <tr>\n",
       "      <th>196</th>\n",
       "      <td>5.89</td>\n",
       "      <td>2.57</td>\n",
       "    </tr>\n",
       "    <tr>\n",
       "      <th>197</th>\n",
       "      <td>7.21</td>\n",
       "      <td>3.24</td>\n",
       "    </tr>\n",
       "    <tr>\n",
       "      <th>198</th>\n",
       "      <td>7.63</td>\n",
       "      <td>3.96</td>\n",
       "    </tr>\n",
       "    <tr>\n",
       "      <th>199</th>\n",
       "      <td>6.22</td>\n",
       "      <td>2.33</td>\n",
       "    </tr>\n",
       "  </tbody>\n",
       "</table>\n",
       "<p>200 rows × 2 columns</p>\n",
       "</div>"
      ],
      "text/plain": [
       "     cgpa  package\n",
       "0    6.89     3.26\n",
       "1    5.12     1.98\n",
       "2    7.82     3.25\n",
       "3    7.42     3.67\n",
       "4    6.94     3.57\n",
       "..    ...      ...\n",
       "195  6.93     2.46\n",
       "196  5.89     2.57\n",
       "197  7.21     3.24\n",
       "198  7.63     3.96\n",
       "199  6.22     2.33\n",
       "\n",
       "[200 rows x 2 columns]"
      ]
     },
     "execution_count": 2,
     "metadata": {},
     "output_type": "execute_result"
    }
   ],
   "source": [
    "data"
   ]
  },
  {
   "cell_type": "code",
   "execution_count": 3,
   "id": "e2f93093",
   "metadata": {},
   "outputs": [
    {
     "data": {
      "text/html": [
       "<div>\n",
       "<style scoped>\n",
       "    .dataframe tbody tr th:only-of-type {\n",
       "        vertical-align: middle;\n",
       "    }\n",
       "\n",
       "    .dataframe tbody tr th {\n",
       "        vertical-align: top;\n",
       "    }\n",
       "\n",
       "    .dataframe thead th {\n",
       "        text-align: right;\n",
       "    }\n",
       "</style>\n",
       "<table border=\"1\" class=\"dataframe\">\n",
       "  <thead>\n",
       "    <tr style=\"text-align: right;\">\n",
       "      <th></th>\n",
       "      <th>cgpa</th>\n",
       "      <th>package</th>\n",
       "    </tr>\n",
       "  </thead>\n",
       "  <tbody>\n",
       "    <tr>\n",
       "      <th>0</th>\n",
       "      <td>6.89</td>\n",
       "      <td>3.26</td>\n",
       "    </tr>\n",
       "    <tr>\n",
       "      <th>1</th>\n",
       "      <td>5.12</td>\n",
       "      <td>1.98</td>\n",
       "    </tr>\n",
       "    <tr>\n",
       "      <th>2</th>\n",
       "      <td>7.82</td>\n",
       "      <td>3.25</td>\n",
       "    </tr>\n",
       "    <tr>\n",
       "      <th>3</th>\n",
       "      <td>7.42</td>\n",
       "      <td>3.67</td>\n",
       "    </tr>\n",
       "    <tr>\n",
       "      <th>4</th>\n",
       "      <td>6.94</td>\n",
       "      <td>3.57</td>\n",
       "    </tr>\n",
       "  </tbody>\n",
       "</table>\n",
       "</div>"
      ],
      "text/plain": [
       "   cgpa  package\n",
       "0  6.89     3.26\n",
       "1  5.12     1.98\n",
       "2  7.82     3.25\n",
       "3  7.42     3.67\n",
       "4  6.94     3.57"
      ]
     },
     "execution_count": 3,
     "metadata": {},
     "output_type": "execute_result"
    }
   ],
   "source": [
    "data.head()"
   ]
  },
  {
   "cell_type": "code",
   "execution_count": 4,
   "id": "1a83fd28",
   "metadata": {},
   "outputs": [
    {
     "data": {
      "text/plain": [
       "(200, 2)"
      ]
     },
     "execution_count": 4,
     "metadata": {},
     "output_type": "execute_result"
    }
   ],
   "source": [
    "data.shape"
   ]
  },
  {
   "cell_type": "code",
   "execution_count": 5,
   "id": "19bcaf93",
   "metadata": {},
   "outputs": [
    {
     "data": {
      "text/plain": [
       "30.0"
      ]
     },
     "execution_count": 5,
     "metadata": {},
     "output_type": "execute_result"
    }
   ],
   "source": [
    "200*0.15"
   ]
  },
  {
   "cell_type": "code",
   "execution_count": 6,
   "id": "66d9fe72",
   "metadata": {},
   "outputs": [
    {
     "data": {
      "text/plain": [
       "Text(0, 0.5, 'package')"
      ]
     },
     "execution_count": 6,
     "metadata": {},
     "output_type": "execute_result"
    },
    {
     "data": {
      "image/png": "[encoded data removed]",
      "text/plain": [
       "<Figure size 640x480 with 1 Axes>"
      ]
     },
     "metadata": {},
     "output_type": "display_data"
    }
   ],
   "source": [
    "import matplotlib.pyplot as plt\n",
    "plt.scatter(data[\"cgpa\"],data[\"package\"])\n",
    "plt.xlabel(\"CGPA\")\n",
    "plt.ylabel(\"package\")"
   ]
  },
  {
   "cell_type": "code",
   "execution_count": 7,
   "id": "b45c8456",
   "metadata": {},
   "outputs": [
    {
     "data": {
      "text/html": [
       "<div>\n",
       "<style scoped>\n",
       "    .dataframe tbody tr th:only-of-type {\n",
       "        vertical-align: middle;\n",
       "    }\n",
       "\n",
       "    .dataframe tbody tr th {\n",
       "        vertical-align: top;\n",
       "    }\n",
       "\n",
       "    .dataframe thead th {\n",
       "        text-align: right;\n",
       "    }\n",
       "</style>\n",
       "<table border=\"1\" class=\"dataframe\">\n",
       "  <thead>\n",
       "    <tr style=\"text-align: right;\">\n",
       "      <th></th>\n",
       "      <th>cgpa</th>\n",
       "    </tr>\n",
       "  </thead>\n",
       "  <tbody>\n",
       "    <tr>\n",
       "      <th>0</th>\n",
       "      <td>6.89</td>\n",
       "    </tr>\n",
       "    <tr>\n",
       "      <th>1</th>\n",
       "      <td>5.12</td>\n",
       "    </tr>\n",
       "    <tr>\n",
       "      <th>2</th>\n",
       "      <td>7.82</td>\n",
       "    </tr>\n",
       "    <tr>\n",
       "      <th>3</th>\n",
       "      <td>7.42</td>\n",
       "    </tr>\n",
       "    <tr>\n",
       "      <th>4</th>\n",
       "      <td>6.94</td>\n",
       "    </tr>\n",
       "    <tr>\n",
       "      <th>...</th>\n",
       "      <td>...</td>\n",
       "    </tr>\n",
       "    <tr>\n",
       "      <th>195</th>\n",
       "      <td>6.93</td>\n",
       "    </tr>\n",
       "    <tr>\n",
       "      <th>196</th>\n",
       "      <td>5.89</td>\n",
       "    </tr>\n",
       "    <tr>\n",
       "      <th>197</th>\n",
       "      <td>7.21</td>\n",
       "    </tr>\n",
       "    <tr>\n",
       "      <th>198</th>\n",
       "      <td>7.63</td>\n",
       "    </tr>\n",
       "    <tr>\n",
       "      <th>199</th>\n",
       "      <td>6.22</td>\n",
       "    </tr>\n",
       "  </tbody>\n",
       "</table>\n",
       "<p>200 rows × 1 columns</p>\n",
       "</div>"
      ],
      "text/plain": [
       "     cgpa\n",
       "0    6.89\n",
       "1    5.12\n",
       "2    7.82\n",
       "3    7.42\n",
       "4    6.94\n",
       "..    ...\n",
       "195  6.93\n",
       "196  5.89\n",
       "197  7.21\n",
       "198  7.63\n",
       "199  6.22\n",
       "\n",
       "[200 rows x 1 columns]"
      ]
     },
     "execution_count": 7,
     "metadata": {},
     "output_type": "execute_result"
    }
   ],
   "source": [
    "data.iloc[:,0:1]"
   ]
  },
  {
   "cell_type": "code",
   "execution_count": 8,
   "id": "b5c73e3d",
   "metadata": {},
   "outputs": [
    {
     "data": {
      "text/plain": [
       "0      3.26\n",
       "1      1.98\n",
       "2      3.25\n",
       "3      3.67\n",
       "4      3.57\n",
       "       ... \n",
       "195    2.46\n",
       "196    2.57\n",
       "197    3.24\n",
       "198    3.96\n",
       "199    2.33\n",
       "Name: package, Length: 200, dtype: float64"
      ]
     },
     "execution_count": 8,
     "metadata": {},
     "output_type": "execute_result"
    }
   ],
   "source": [
    "data.iloc[:,-1]"
   ]
  },
  {
   "cell_type": "code",
   "execution_count": 9,
   "id": "63758719",
   "metadata": {},
   "outputs": [],
   "source": [
    "X=data.iloc[:,0:1]\n",
    "Y=data.iloc[:,-1]"
   ]
  },
  {
   "cell_type": "code",
   "execution_count": 10,
   "id": "e67a9266",
   "metadata": {},
   "outputs": [],
   "source": [
    "#random Sampling\n",
    "#Train test dataset"
   ]
  },
  {
   "cell_type": "code",
   "execution_count": 11,
   "id": "91b20b3f",
   "metadata": {},
   "outputs": [],
   "source": [
    "\n",
    "from sklearn.model_selection import train_test_split"
   ]
  },
  {
   "cell_type": "code",
   "execution_count": 12,
   "id": "83e226b4",
   "metadata": {},
   "outputs": [],
   "source": [
    "X_train,X_test,Y_train,Y_test=train_test_split(X,Y,test_size=0.15,random_state=42)"
   ]
  },
  {
   "cell_type": "code",
   "execution_count": 13,
   "id": "52ea068b",
   "metadata": {},
   "outputs": [
    {
     "data": {
      "text/plain": [
       "(170, 1)"
      ]
     },
     "execution_count": 13,
     "metadata": {},
     "output_type": "execute_result"
    }
   ],
   "source": [
    "X_train.shape"
   ]
  },
  {
   "cell_type": "code",
   "execution_count": 14,
   "id": "3d4aeb9b",
   "metadata": {},
   "outputs": [
    {
     "data": {
      "text/plain": [
       "(30, 1)"
      ]
     },
     "execution_count": 14,
     "metadata": {},
     "output_type": "execute_result"
    }
   ],
   "source": [
    "X_test.shape"
   ]
  },
  {
   "cell_type": "code",
   "execution_count": 15,
   "id": "44fb29be",
   "metadata": {},
   "outputs": [
    {
     "data": {
      "text/html": [
       "<div>\n",
       "<style scoped>\n",
       "    .dataframe tbody tr th:only-of-type {\n",
       "        vertical-align: middle;\n",
       "    }\n",
       "\n",
       "    .dataframe tbody tr th {\n",
       "        vertical-align: top;\n",
       "    }\n",
       "\n",
       "    .dataframe thead th {\n",
       "        text-align: right;\n",
       "    }\n",
       "</style>\n",
       "<table border=\"1\" class=\"dataframe\">\n",
       "  <thead>\n",
       "    <tr style=\"text-align: right;\">\n",
       "      <th></th>\n",
       "      <th>cgpa</th>\n",
       "    </tr>\n",
       "  </thead>\n",
       "  <tbody>\n",
       "    <tr>\n",
       "      <th>9</th>\n",
       "      <td>8.31</td>\n",
       "    </tr>\n",
       "    <tr>\n",
       "      <th>18</th>\n",
       "      <td>6.94</td>\n",
       "    </tr>\n",
       "    <tr>\n",
       "      <th>55</th>\n",
       "      <td>8.20</td>\n",
       "    </tr>\n",
       "    <tr>\n",
       "      <th>75</th>\n",
       "      <td>6.97</td>\n",
       "    </tr>\n",
       "    <tr>\n",
       "      <th>150</th>\n",
       "      <td>6.30</td>\n",
       "    </tr>\n",
       "    <tr>\n",
       "      <th>...</th>\n",
       "      <td>...</td>\n",
       "    </tr>\n",
       "    <tr>\n",
       "      <th>106</th>\n",
       "      <td>6.13</td>\n",
       "    </tr>\n",
       "    <tr>\n",
       "      <th>14</th>\n",
       "      <td>7.73</td>\n",
       "    </tr>\n",
       "    <tr>\n",
       "      <th>92</th>\n",
       "      <td>7.90</td>\n",
       "    </tr>\n",
       "    <tr>\n",
       "      <th>179</th>\n",
       "      <td>7.14</td>\n",
       "    </tr>\n",
       "    <tr>\n",
       "      <th>102</th>\n",
       "      <td>5.13</td>\n",
       "    </tr>\n",
       "  </tbody>\n",
       "</table>\n",
       "<p>170 rows × 1 columns</p>\n",
       "</div>"
      ],
      "text/plain": [
       "     cgpa\n",
       "9    8.31\n",
       "18   6.94\n",
       "55   8.20\n",
       "75   6.97\n",
       "150  6.30\n",
       "..    ...\n",
       "106  6.13\n",
       "14   7.73\n",
       "92   7.90\n",
       "179  7.14\n",
       "102  5.13\n",
       "\n",
       "[170 rows x 1 columns]"
      ]
     },
     "execution_count": 15,
     "metadata": {},
     "output_type": "execute_result"
    }
   ],
   "source": [
    "X_train"
   ]
  },
  {
   "cell_type": "code",
   "execution_count": 16,
   "id": "8aac3ab4",
   "metadata": {},
   "outputs": [],
   "source": [
    "from sklearn.linear_model import LinearRegression"
   ]
  },
  {
   "cell_type": "code",
   "execution_count": 17,
   "id": "7be11110",
   "metadata": {},
   "outputs": [],
   "source": [
    "model=LinearRegression()"
   ]
  },
  {
   "cell_type": "code",
   "execution_count": 18,
   "id": "5c1d1288",
   "metadata": {},
   "outputs": [
    {
     "data": {
      "text/html": [
       "<style>#sk-container-id-1 {color: black;background-color: white;}#sk-container-id-1 pre{padding: 0;}#sk-container-id-1 div.sk-toggleable {background-color: white;}#sk-container-id-1 label.sk-toggleable__label {cursor: pointer;display: block;width: 100%;margin-bottom: 0;padding: 0.3em;box-sizing: border-box;text-align: center;}#sk-container-id-1 label.sk-toggleable__label-arrow:before {content: \"▸\";float: left;margin-right: 0.25em;color: #696969;}#sk-container-id-1 label.sk-toggleable__label-arrow:hover:before {color: black;}#sk-container-id-1 div.sk-estimator:hover label.sk-toggleable__label-arrow:before {color: black;}#sk-container-id-1 div.sk-toggleable__content {max-height: 0;max-width: 0;overflow: hidden;text-align: left;background-color: #f0f8ff;}#sk-container-id-1 div.sk-toggleable__content pre {margin: 0.2em;color: black;border-radius: 0.25em;background-color: #f0f8ff;}#sk-container-id-1 input.sk-toggleable__control:checked~div.sk-toggleable__content {max-height: 200px;max-width: 100%;overflow: auto;}#sk-container-id-1 input.sk-toggleable__control:checked~label.sk-toggleable__label-arrow:before {content: \"▾\";}#sk-container-id-1 div.sk-estimator input.sk-toggleable__control:checked~label.sk-toggleable__label {background-color: #d4ebff;}#sk-container-id-1 div.sk-label input.sk-toggleable__control:checked~label.sk-toggleable__label {background-color: #d4ebff;}#sk-container-id-1 input.sk-hidden--visually {border: 0;clip: rect(1px 1px 1px 1px);clip: rect(1px, 1px, 1px, 1px);height: 1px;margin: -1px;overflow: hidden;padding: 0;position: absolute;width: 1px;}#sk-container-id-1 div.sk-estimator {font-family: monospace;background-color: #f0f8ff;border: 1px dotted black;border-radius: 0.25em;box-sizing: border-box;margin-bottom: 0.5em;}#sk-container-id-1 div.sk-estimator:hover {background-color: #d4ebff;}#sk-container-id-1 div.sk-parallel-item::after {content: \"\";width: 100%;border-bottom: 1px solid gray;flex-grow: 1;}#sk-container-id-1 div.sk-label:hover label.sk-toggleable__label {background-color: #d4ebff;}#sk-container-id-1 div.sk-serial::before {content: \"\";position: absolute;border-left: 1px solid gray;box-sizing: border-box;top: 0;bottom: 0;left: 50%;z-index: 0;}#sk-container-id-1 div.sk-serial {display: flex;flex-direction: column;align-items: center;background-color: white;padding-right: 0.2em;padding-left: 0.2em;position: relative;}#sk-container-id-1 div.sk-item {position: relative;z-index: 1;}#sk-container-id-1 div.sk-parallel {display: flex;align-items: stretch;justify-content: center;background-color: white;position: relative;}#sk-container-id-1 div.sk-item::before, #sk-container-id-1 div.sk-parallel-item::before {content: \"\";position: absolute;border-left: 1px solid gray;box-sizing: border-box;top: 0;bottom: 0;left: 50%;z-index: -1;}#sk-container-id-1 div.sk-parallel-item {display: flex;flex-direction: column;z-index: 1;position: relative;background-color: white;}#sk-container-id-1 div.sk-parallel-item:first-child::after {align-self: flex-end;width: 50%;}#sk-container-id-1 div.sk-parallel-item:last-child::after {align-self: flex-start;width: 50%;}#sk-container-id-1 div.sk-parallel-item:only-child::after {width: 0;}#sk-container-id-1 div.sk-dashed-wrapped {border: 1px dashed gray;margin: 0 0.4em 0.5em 0.4em;box-sizing: border-box;padding-bottom: 0.4em;background-color: white;}#sk-container-id-1 div.sk-label label {font-family: monospace;font-weight: bold;display: inline-block;line-height: 1.2em;}#sk-container-id-1 div.sk-label-container {text-align: center;}#sk-container-id-1 div.sk-container {/* jupyter's `normalize.less` sets `[hidden] { display: none; }` but bootstrap.min.css set `[hidden] { display: none !important; }` so we also need the `!important` here to be able to override the default hidden behavior on the sphinx rendered scikit-learn.org. See: https://github.com/scikit-learn/scikit-learn/issues/21755 */display: inline-block !important;position: relative;}#sk-container-id-1 div.sk-text-repr-fallback {display: none;}</style><div id=\"sk-container-id-1\" class=\"sk-top-container\"><div class=\"sk-text-repr-fallback\"><pre>LinearRegression()</pre><b>In a Jupyter environment, please rerun this cell to show the HTML representation or trust the notebook. <br />On GitHub, the HTML representation is unable to render, please try loading this page with nbviewer.org.</b></div><div class=\"sk-container\" hidden><div class=\"sk-item\"><div class=\"sk-estimator sk-toggleable\"><input class=\"sk-toggleable__control sk-hidden--visually\" id=\"sk-estimator-id-1\" type=\"checkbox\" checked><label for=\"sk-estimator-id-1\" class=\"sk-toggleable__label sk-toggleable__label-arrow\">LinearRegression</label><div class=\"sk-toggleable__content\"><pre>LinearRegression()</pre></div></div></div></div></div>"
      ],
      "text/plain": [
       "LinearRegression()"
      ]
     },
     "execution_count": 18,
     "metadata": {},
     "output_type": "execute_result"
    }
   ],
   "source": [
    "model.fit(X_train,Y_train)"
   ]
  },
  {
   "cell_type": "code",
   "execution_count": 19,
   "id": "465b5844",
   "metadata": {},
   "outputs": [
    {
     "data": {
      "text/plain": [
       "0.7741811633951949"
      ]
     },
     "execution_count": 19,
     "metadata": {},
     "output_type": "execute_result"
    }
   ],
   "source": [
    "model.score(X_train,Y_train)"
   ]
  },
  {
   "cell_type": "code",
   "execution_count": 20,
   "id": "7a37faa3",
   "metadata": {},
   "outputs": [
    {
     "ename": "SyntaxError",
     "evalue": "invalid syntax (1479607831.py, line 3)",
     "output_type": "error",
     "traceback": [
      "\u001b[1;36m  Cell \u001b[1;32mIn[20], line 3\u001b[1;36m\u001b[0m\n\u001b[1;33m    if we getting r2 value near to 1 thar model will a best model\u001b[0m\n\u001b[1;37m          ^\u001b[0m\n\u001b[1;31mSyntaxError\u001b[0m\u001b[1;31m:\u001b[0m invalid syntax\n"
     ]
    }
   ],
   "source": [
    "0-1\n",
    "\n",
    "if we getting r2 value near to 1 thar model will a best model"
   ]
  },
  {
   "cell_type": "code",
   "execution_count": null,
   "id": "c9fc4118",
   "metadata": {},
   "outputs": [],
   "source": [
    "X_test"
   ]
  },
  {
   "cell_type": "code",
   "execution_count": null,
   "id": "94b1b1ed",
   "metadata": {},
   "outputs": [],
   "source": [
    "model"
   ]
  },
  {
   "cell_type": "code",
   "execution_count": null,
   "id": "c8db5eae",
   "metadata": {},
   "outputs": [],
   "source": [
    "Y_pred=model.predict(X_test)"
   ]
  },
  {
   "cell_type": "code",
   "execution_count": null,
   "id": "7220a7c3",
   "metadata": {},
   "outputs": [],
   "source": [
    "Y_pred"
   ]
  },
  {
   "cell_type": "code",
   "execution_count": null,
   "id": "cdf65772",
   "metadata": {},
   "outputs": [],
   "source": [
    "from sklearn.metrics import r2_score"
   ]
  },
  {
   "cell_type": "code",
   "execution_count": null,
   "id": "ddf22dbf",
   "metadata": {},
   "outputs": [],
   "source": [
    "r2_score(Y_test,Y_pred)"
   ]
  },
  {
   "cell_type": "code",
   "execution_count": null,
   "id": "67565921",
   "metadata": {},
   "outputs": [],
   "source": [
    "model.coef_"
   ]
  },
  {
   "cell_type": "code",
   "execution_count": null,
   "id": "fdc4085f",
   "metadata": {},
   "outputs": [],
   "source": [
    "model.intercept_"
   ]
  },
  {
   "cell_type": "code",
   "execution_count": null,
   "id": "ed40c774",
   "metadata": {},
   "outputs": [],
   "source": []
  },
  {
   "cell_type": "code",
   "execution_count": null,
   "id": "62f0da17",
   "metadata": {},
   "outputs": [],
   "source": [
    "#here i an singl e prediction"
   ]
  },
  {
   "cell_type": "code",
   "execution_count": null,
   "id": "b508e603",
   "metadata": {},
   "outputs": [],
   "source": [
    "model.predict([[8.9]])"
   ]
  },
  {
   "cell_type": "code",
   "execution_count": null,
   "id": "aadba80e",
   "metadata": {},
   "outputs": [],
   "source": [
    "plt.scatter(data[\"cgpa\"],data[\"package\"])\n",
    "plt.plot(X_train,model.predict(X_train),color=\"red\")"
   ]
  },
  {
   "cell_type": "code",
   "execution_count": null,
   "id": "98ad19a6",
   "metadata": {},
   "outputs": [],
   "source": []
  },
  {
   "cell_type": "markdown",
   "id": "5eb5701f",
   "metadata": {},
   "source": [
    "### Multiple Linear Regression"
   ]
  },
  {
   "cell_type": "code",
   "execution_count": 25,
   "id": "c699be7f",
   "metadata": {},
   "outputs": [],
   "source": [
    "import pandas as pd\n",
    "from sklearn.datasets import make_regression\n",
    "x,y=make_regression(n_samples=150,n_features=2,n_targets=1,noise=40)"
   ]
  },
  {
   "cell_type": "code",
   "execution_count": 22,
   "id": "17955305",
   "metadata": {},
   "outputs": [
    {
     "data": {
      "text/plain": [
       "array([[ 3.85203362e-01, -1.48005283e+00],\n",
       "       [-5.06241618e-01,  3.78036661e-01],\n",
       "       [-5.07320154e-01, -4.79715764e-02],\n",
       "       [ 6.75061109e-01,  1.13981432e+00],\n",
       "       [ 1.24009605e+00,  1.23622054e-01],\n",
       "       [-3.91960364e-02, -9.70319831e-01],\n",
       "       [ 9.18828592e-01, -1.76471862e-01],\n",
       "       [ 1.60946810e+00, -1.06976345e+00],\n",
       "       [-1.12482384e+00, -2.02032320e+00],\n",
       "       [ 7.57622181e-01, -7.62222728e-01],\n",
       "       [-2.10066762e-01, -1.15020787e+00],\n",
       "       [-6.82310479e-01,  3.32102194e-01],\n",
       "       [ 4.29665938e-01, -4.27176252e-01],\n",
       "       [-1.62835140e+00,  8.49793875e-03],\n",
       "       [ 1.14714262e+00,  7.57371044e-01],\n",
       "       [ 8.36460045e-01,  8.78129171e-01],\n",
       "       [ 2.43573906e+00, -5.44223165e-01],\n",
       "       [-8.46109438e-01,  2.99436038e-01],\n",
       "       [ 1.37895994e+00,  6.32447219e-01],\n",
       "       [ 9.82884881e-01,  2.79395340e-01],\n",
       "       [-1.41086393e+00, -8.98995877e-01],\n",
       "       [-8.79209843e-01,  3.85560196e-01],\n",
       "       [ 8.95802583e-01,  8.03576067e-01],\n",
       "       [ 8.14334989e-01, -4.88154112e-01],\n",
       "       [-4.56863956e-01,  8.10687670e-01],\n",
       "       [-1.52600042e+00, -1.42066022e+00],\n",
       "       [-6.72527096e-02,  6.91729629e-01],\n",
       "       [-9.68295439e-01,  7.11085663e-01],\n",
       "       [ 7.70940885e-01,  7.74448984e-01],\n",
       "       [-5.16100416e-01,  8.26608399e-01],\n",
       "       [-1.70288933e+00, -8.91782258e-01],\n",
       "       [ 1.73259617e+00, -3.89132097e-01],\n",
       "       [-1.83599632e-01, -1.66704180e-01],\n",
       "       [-1.91701841e-02, -3.70940674e-01],\n",
       "       [-1.45462718e-01, -5.41071660e-01],\n",
       "       [-1.21634467e-03, -3.34995711e-01],\n",
       "       [-6.28975536e-01, -1.75171129e+00],\n",
       "       [-1.41217566e+00, -8.35450470e-01],\n",
       "       [-2.31663351e+00,  7.65884803e-01],\n",
       "       [ 4.96535723e-01,  1.38769267e+00],\n",
       "       [ 2.02022561e-01,  3.18366501e-01],\n",
       "       [ 9.23363780e-01, -1.99413716e-01],\n",
       "       [-6.87612244e-01, -3.19326952e-01],\n",
       "       [ 5.86157557e-01,  1.39531350e+00],\n",
       "       [ 3.56239300e-01,  1.43393663e+00],\n",
       "       [-8.26593216e-01,  1.26378645e-01],\n",
       "       [ 9.02252816e-01,  1.49889254e+00],\n",
       "       [-2.55507052e-01, -4.65697455e-01],\n",
       "       [ 1.04075631e+00, -7.13577509e-01],\n",
       "       [ 1.78460067e+00,  3.20350712e-01],\n",
       "       [-9.49051988e-02, -8.22955822e-01],\n",
       "       [-4.50513797e-01, -5.79904413e-03],\n",
       "       [-1.29670121e+00, -1.15876901e+00],\n",
       "       [ 4.58295394e-01,  7.46551568e-01],\n",
       "       [-6.02917108e-01,  5.60878346e-01],\n",
       "       [-6.00826818e-01,  8.46542903e-01],\n",
       "       [ 7.58711860e-01, -1.49438423e+00],\n",
       "       [-1.97415633e+00, -5.14354705e-01],\n",
       "       [ 8.17926926e-01,  1.64146648e-01],\n",
       "       [ 1.04853603e+00,  1.11543195e+00],\n",
       "       [ 9.57148291e-01, -1.07987469e-01],\n",
       "       [ 2.07492072e+00, -1.55862858e+00],\n",
       "       [-7.27348750e-01,  1.02446103e+00],\n",
       "       [ 9.88559475e-01, -7.30264071e-01],\n",
       "       [ 1.16587324e+00,  9.83586245e-01],\n",
       "       [ 1.72074920e-01, -1.30056854e+00],\n",
       "       [ 2.26601507e-01, -7.44401511e-01],\n",
       "       [ 4.01093203e-01,  1.34963937e+00],\n",
       "       [-7.00349652e-01,  3.19684091e-01],\n",
       "       [-8.43381427e-01,  9.89446794e-01],\n",
       "       [ 3.74386473e-01,  1.49880492e+00],\n",
       "       [ 2.30672911e-01, -1.73675663e-01],\n",
       "       [-4.15637708e-01,  1.95354101e-01],\n",
       "       [ 1.43867906e+00,  1.60145048e-01],\n",
       "       [ 4.76729556e-01,  8.27023408e-01],\n",
       "       [-1.13787382e-01, -7.46240144e-01],\n",
       "       [-9.62092241e-01,  8.81786751e-01],\n",
       "       [ 9.95036534e-01, -5.68733201e-01],\n",
       "       [ 4.14868502e-01, -4.01599247e-01],\n",
       "       [-2.13863286e+00, -7.01492382e-01],\n",
       "       [-5.69367064e-01,  5.12587521e-01],\n",
       "       [-5.52164113e-01, -6.13217551e-01],\n",
       "       [ 5.74280352e-02,  6.60020475e-01],\n",
       "       [-3.48673691e-01,  5.04319494e-01],\n",
       "       [-2.97254933e-01, -1.28428387e+00],\n",
       "       [ 4.33898565e-01, -8.50194617e-01],\n",
       "       [-1.14555821e+00, -3.92124323e-01],\n",
       "       [ 1.78516010e-02,  3.78186204e-02],\n",
       "       [ 8.31666803e-01, -5.11107330e-01],\n",
       "       [ 9.55377299e-01,  3.34007190e-01],\n",
       "       [ 9.50627150e-01, -7.47081857e-01],\n",
       "       [ 7.39959046e-01, -1.73764517e-01],\n",
       "       [-3.50345206e-01, -1.75301737e+00],\n",
       "       [-9.31274835e-02,  4.61211699e-01],\n",
       "       [ 5.14993653e-01,  1.15994309e+00],\n",
       "       [ 3.14859071e-01,  4.23484060e-01],\n",
       "       [-1.99290823e-02,  7.48771691e-01],\n",
       "       [ 6.92548656e-01,  8.91950120e-01],\n",
       "       [-2.07189164e-01,  2.14149822e+00],\n",
       "       [ 4.45569443e-01,  2.52845104e-01],\n",
       "       [ 9.52898909e-01,  4.28642106e-01],\n",
       "       [ 1.06285360e+00, -5.40060265e-01],\n",
       "       [-1.35393584e+00, -5.23292238e-01],\n",
       "       [ 1.49540195e+00,  8.26955236e-01],\n",
       "       [ 9.06181019e-01,  1.91595528e+00],\n",
       "       [-3.08625282e-01, -1.19206085e+00],\n",
       "       [ 9.34114797e-01, -3.78657925e-02],\n",
       "       [-1.48347717e-01,  4.07813461e-01],\n",
       "       [-1.37989690e+00, -5.62038578e-01],\n",
       "       [ 4.87489453e-01,  6.66032356e-01],\n",
       "       [-6.02779535e-01,  3.20646728e-01],\n",
       "       [-8.79715738e-01, -2.83055995e+00],\n",
       "       [-1.06409513e+00,  1.56151075e+00],\n",
       "       [ 9.13351552e-01,  2.86586221e-01],\n",
       "       [ 7.25092062e-01,  6.90964296e-01],\n",
       "       [-7.88177038e-01,  1.11540721e+00],\n",
       "       [ 3.56669076e-01, -4.69275350e-01],\n",
       "       [-2.90932551e-01, -2.36689957e+00],\n",
       "       [-1.86932357e+00, -2.21494111e-01],\n",
       "       [-6.62456018e-01,  1.40046223e+00],\n",
       "       [ 8.58803920e-02, -1.22067631e-01],\n",
       "       [-3.17591158e-01,  6.77353217e-01],\n",
       "       [-6.30757755e-01,  1.84078835e-02],\n",
       "       [ 2.44342170e+00,  1.28032424e+00],\n",
       "       [ 2.09028414e+00,  3.57756348e+00],\n",
       "       [ 2.14938444e+00, -1.42235638e+00],\n",
       "       [-7.56169585e-01,  9.21747931e-01],\n",
       "       [-6.07537779e-01,  1.80058237e+00],\n",
       "       [ 1.35562316e+00, -1.44493612e+00],\n",
       "       [ 1.04592561e+00, -3.51733861e-01],\n",
       "       [ 1.63042416e-01, -7.46733916e-01],\n",
       "       [-3.40683534e-01, -4.25702523e-01],\n",
       "       [-5.83518577e-01, -1.82682759e+00],\n",
       "       [-2.87019091e-01,  4.20017814e-01],\n",
       "       [-1.63321404e-01, -1.62360695e-01],\n",
       "       [-1.84774519e+00,  5.63589256e-01],\n",
       "       [-2.07331375e+00, -1.18572059e+00],\n",
       "       [ 1.22711928e+00, -1.38088034e+00],\n",
       "       [ 6.06146647e-01,  8.78904010e-01],\n",
       "       [-5.47027573e-01,  2.41254246e+00],\n",
       "       [ 5.68079709e-01, -1.58748258e+00],\n",
       "       [ 1.07613771e+00,  5.42811094e-02],\n",
       "       [-1.50274724e+00, -4.07177872e-01],\n",
       "       [-9.23513244e-01,  2.51932199e-01],\n",
       "       [ 2.82028802e-01, -8.80843636e-01],\n",
       "       [ 2.77314401e-01, -1.72497867e+00],\n",
       "       [ 6.51426232e-01,  2.19097416e-01],\n",
       "       [ 2.66885233e-01,  1.04311428e+00],\n",
       "       [ 1.11723633e-01,  4.25886915e-01],\n",
       "       [ 1.65469058e+00, -1.68047228e+00]])"
      ]
     },
     "execution_count": 22,
     "metadata": {},
     "output_type": "execute_result"
    }
   ],
   "source": [
    "x"
   ]
  },
  {
   "cell_type": "code",
   "execution_count": 23,
   "id": "890f6a2d",
   "metadata": {},
   "outputs": [
    {
     "data": {
      "text/plain": [
       "array([-153.12218365,   71.484347  ,  -40.44038819,   90.11186232,\n",
       "        106.39312186, -101.71620906,   68.23117572,  -85.85024736,\n",
       "       -237.8911687 , -104.27911486, -100.29868469,  -18.80094371,\n",
       "         30.64619475,  -97.54380081,   92.96737695,  128.34330312,\n",
       "         73.99168353,   20.57861913,  120.31592323,   32.93914296,\n",
       "       -103.3935927 ,   33.81424564,  155.3230371 ,  -55.50228415,\n",
       "         66.99488508, -220.3954154 ,   64.34630207,  -22.62477988,\n",
       "        115.15759556,   11.65783129,  -88.90770005,    6.36724993,\n",
       "        -46.91940251,   15.81349277,  -35.83449523,    9.39368507,\n",
       "       -124.10709545, -208.52915068,  -38.67691707,  184.39248359,\n",
       "         78.65923294,   77.74413092,  -33.3565305 ,  186.33704407,\n",
       "        162.51140691,   21.99287472,  106.27601516,  -77.01795426,\n",
       "          3.67927508,  121.14849922,  -53.87489489,    2.94386101,\n",
       "       -126.81860678,  136.23413744,  100.17703444,   50.73820401,\n",
       "       -151.01790927, -111.65675503,   65.56580963,  194.09835446,\n",
       "          7.831447  , -115.87749086,   30.76705108,  -61.00956646,\n",
       "        108.8052018 , -110.35620241,  -37.08643226,   93.70425415,\n",
       "        -33.81227312,   46.38905284,  188.01594612,   19.87501341,\n",
       "         71.65493028,   22.71995426,  115.37190093,  -26.98905756,\n",
       "        101.70530337,   42.15682536,  -43.77413651, -168.38457957,\n",
       "         57.34465398,  -82.21786234,   51.40471183,   18.92362558,\n",
       "       -123.17847842,  -58.63775344, -156.87965285,   13.42521576,\n",
       "         66.08189396,   42.39629555,    3.72295902,  -33.86408988,\n",
       "       -246.65548115,   25.94683226,  119.9229667 ,   27.33047685,\n",
       "         69.44926137,   85.09547036,  163.50581513,   22.28136761,\n",
       "         87.16611715,   -9.99914899, -160.4140683 ,   93.77377528,\n",
       "        292.5880255 , -165.47167446,  -17.66430509,   -8.76332454,\n",
       "        -54.66521959,  102.65080968,   37.36944409, -320.861027  ,\n",
       "        145.61342803,   62.86644966,  128.79290671,  101.98206115,\n",
       "        -63.93495031, -237.45956935,  -75.58087277,  141.25364067,\n",
       "        -27.69304956,   88.11370488,  -66.10718942,  233.43428607,\n",
       "        425.48576454,  -63.56668292,   54.24874835,  164.44185186,\n",
       "        -20.96674001,   -8.70972989,  -86.21858738, -110.90539821,\n",
       "       -176.63779378,    9.42929961,   11.20459297,   44.15793375,\n",
       "       -177.22062587, -146.19989492,  144.16951551,  204.08628423,\n",
       "        -83.98869147,    2.40361629,  -20.03155108,   -4.59059099,\n",
       "       -111.22281904, -112.83627704,   21.82117329,   61.28602718,\n",
       "         -6.91602627,  -52.90883852])"
      ]
     },
     "execution_count": 23,
     "metadata": {},
     "output_type": "execute_result"
    }
   ],
   "source": [
    "y"
   ]
  },
  {
   "cell_type": "code",
   "execution_count": 29,
   "id": "60ac072a",
   "metadata": {},
   "outputs": [],
   "source": [
    "data=pd.DataFrame({'feature1':x[:,0],'feature2':x[:,1],'target':y})"
   ]
  },
  {
   "cell_type": "code",
   "execution_count": 31,
   "id": "f45c5799",
   "metadata": {},
   "outputs": [
    {
     "data": {
      "text/plain": [
       "(150, 3)"
      ]
     },
     "execution_count": 31,
     "metadata": {},
     "output_type": "execute_result"
    }
   ],
   "source": [
    "data.shape"
   ]
  },
  {
   "cell_type": "code",
   "execution_count": 35,
   "id": "567d2ed2",
   "metadata": {},
   "outputs": [
    {
     "data": {
      "text/html": [
       "<div>\n",
       "<style scoped>\n",
       "    .dataframe tbody tr th:only-of-type {\n",
       "        vertical-align: middle;\n",
       "    }\n",
       "\n",
       "    .dataframe tbody tr th {\n",
       "        vertical-align: top;\n",
       "    }\n",
       "\n",
       "    .dataframe thead th {\n",
       "        text-align: right;\n",
       "    }\n",
       "</style>\n",
       "<table border=\"1\" class=\"dataframe\">\n",
       "  <thead>\n",
       "    <tr style=\"text-align: right;\">\n",
       "      <th></th>\n",
       "      <th>feature1</th>\n",
       "      <th>feature2</th>\n",
       "      <th>target</th>\n",
       "    </tr>\n",
       "  </thead>\n",
       "  <tbody>\n",
       "    <tr>\n",
       "      <th>0</th>\n",
       "      <td>0.375009</td>\n",
       "      <td>0.144019</td>\n",
       "      <td>55.245334</td>\n",
       "    </tr>\n",
       "    <tr>\n",
       "      <th>1</th>\n",
       "      <td>1.403229</td>\n",
       "      <td>0.057291</td>\n",
       "      <td>59.893519</td>\n",
       "    </tr>\n",
       "    <tr>\n",
       "      <th>2</th>\n",
       "      <td>2.177547</td>\n",
       "      <td>-0.922158</td>\n",
       "      <td>32.735893</td>\n",
       "    </tr>\n",
       "    <tr>\n",
       "      <th>3</th>\n",
       "      <td>0.702326</td>\n",
       "      <td>0.954192</td>\n",
       "      <td>110.280480</td>\n",
       "    </tr>\n",
       "    <tr>\n",
       "      <th>4</th>\n",
       "      <td>-0.934221</td>\n",
       "      <td>-1.024909</td>\n",
       "      <td>-88.588916</td>\n",
       "    </tr>\n",
       "  </tbody>\n",
       "</table>\n",
       "</div>"
      ],
      "text/plain": [
       "   feature1  feature2      target\n",
       "0  0.375009  0.144019   55.245334\n",
       "1  1.403229  0.057291   59.893519\n",
       "2  2.177547 -0.922158   32.735893\n",
       "3  0.702326  0.954192  110.280480\n",
       "4 -0.934221 -1.024909  -88.588916"
      ]
     },
     "execution_count": 35,
     "metadata": {},
     "output_type": "execute_result"
    }
   ],
   "source": [
    "data.head()"
   ]
  },
  {
   "cell_type": "code",
   "execution_count": 38,
   "id": "f9a7aea0",
   "metadata": {},
   "outputs": [
    {
     "data": {
      "application/vnd.plotly.v1+json": {
       "config": {
        "plotlyServerURL": "https://plot.ly"
       },
       "data": [
        {
         "hovertemplate": "feature1=%{x}<br>feature2=%{y}<br>target=%{z}<extra></extra>",
         "legendgroup": "",
         "marker": {
          "color": "#636efa",
          "symbol": "circle"
         },
         "mode": "markers",
         "name": "",
         "scene": "scene",
         "showlegend": false,
         "type": "scatter3d",
         "x": [
          0.3750089844548725,
          1.4032285472224784,
          2.1775469474850295,
          0.7023264984834311,
          -0.934221273875797,
          0.516229957354304,
          -0.3663319387997544,
          0.7386083881176758,
          -0.3705050444893175,
          -2.075373953606049,
          -0.020055124571840353,
          -1.4699726472622212,
          0.35007094780214465,
          -0.5511152023624395,
          -1.821370633585345,
          0.07481984778909095,
          0.16456957564842592,
          -1.3117652426667235,
          0.0478091309421163,
          -0.06879850530574581,
          1.4204020136478506,
          -0.8020324302326187,
          1.7127199030775013,
          -2.0748088700472596,
          0.32758971560810396,
          1.4158723229917485,
          0.45064504515914144,
          1.0757535325252459,
          1.019833655622222,
          -0.5935338812484172,
          1.0587348566099286,
          0.10679228654089676,
          -1.6491426766974364,
          0.8063788858378316,
          -1.5726551684133694,
          1.597040114031717,
          -0.4287221593733437,
          -0.23545537924112417,
          -0.19030963157863476,
          -0.7745562488059375,
          0.2538973416447118,
          -0.21451614391494706,
          -0.7919712311257091,
          -0.006420492358956677,
          0.01839486849780036,
          1.229453985745914,
          -1.140989032770609,
          -0.09830150831962342,
          1.1078384756845918,
          -0.26808745198856315,
          0.621833932740884,
          -0.7863785329139269,
          -1.6570799252852888,
          -0.6418137465617161,
          0.08273055874747126,
          1.2582142717508846,
          0.8342921628385679,
          0.9979963893582886,
          -0.023740857423198546,
          0.5493433915042542,
          -0.48263477144043393,
          -0.18941007693401085,
          -2.0163181941040054,
          0.04119735560294919,
          -0.160892168823488,
          0.6630084436408126,
          0.6217494527789534,
          -1.4346349393324047,
          1.4386243003696273,
          -1.5831775548674671,
          -0.1606885408870961,
          -2.0084542321400534,
          -0.24569393773325376,
          0.6170907416441282,
          -0.507857672846987,
          -1.3525827778886548,
          0.11008281056077614,
          0.6081823703727655,
          -2.624181472995488,
          -1.421785487445186,
          0.20636494781918352,
          0.8506560537244438,
          -1.313203773285622,
          0.7219019776007358,
          1.4909753546442397,
          -0.9995838524791556,
          0.3352095805606414,
          -1.7088219865768999,
          0.8070352063262592,
          0.07861584038259885,
          -0.05110701850112857,
          -0.37772253639997855,
          -0.5210795440367992,
          0.7665478211702471,
          -1.8894586758156064,
          -0.5084446362662276,
          -1.4084337156915245,
          0.2022227982257353,
          -0.050765280738019454,
          0.9415674566193678,
          -2.091836867823966,
          -1.4171358539754433,
          -1.0158103775886884,
          0.12794395705941655,
          1.2569020948595333,
          -1.5142580878694862,
          -1.4201915902476259,
          -0.02625396510658077,
          -2.096567615857616,
          -0.7996837326386889,
          0.31784023332780686,
          -1.231464425932277,
          -1.874468040911766,
          0.1212367412307369,
          -0.11542617902336054,
          0.5481689211456999,
          0.37683295492894753,
          0.273544169833286,
          -0.3942870702861298,
          0.12555261944367135,
          -0.8118423081797359,
          -1.6424948309343084,
          -1.0864455602044782,
          -0.4705605610845895,
          -0.04595865404361686,
          0.5972385426468522,
          -1.9089495317475673,
          1.146975565486455,
          -1.4607903404878546,
          1.0029876164008427,
          -0.2646163017149358,
          -1.1225651781733494,
          0.7048918981746608,
          1.0655034693670389,
          -0.26068118489485576,
          -0.03800871616798803,
          -0.4441912394062017,
          -0.16065082833527386,
          0.06270227966749384,
          0.45807989475387795,
          -0.563776169900901,
          -1.8362013976572722,
          -0.40087619048018397,
          -1.1062014573542842,
          0.5467330138890436,
          0.25845291479822496,
          0.8915095791429782,
          0.47519578747770147,
          0.05328852673009228,
          -0.8923310842360277
         ],
         "y": [
          0.14401932802691625,
          0.05729140524771602,
          -0.9221583037029101,
          0.9541915748763876,
          -1.0249090628809872,
          -0.6498258082927769,
          -1.782014604778036,
          1.0984272048518615,
          -0.6129115229464834,
          0.9221866990287789,
          -0.12801256709077688,
          1.118409876764145,
          -0.13640078911683753,
          -0.3933450121235607,
          -0.4446147528104594,
          -1.503245353396565,
          1.3001858083272517,
          -1.285813937555975,
          -0.7516036201738295,
          1.5816048527200164,
          -0.8994355799420674,
          -0.848196441341776,
          -1.0901378450550172,
          -1.377108896986818,
          0.9804729918951848,
          0.0016477888555801008,
          -0.27530261933088784,
          -0.5121284856903058,
          -1.6249088283950484,
          0.4026098693805654,
          -1.4396416985791383,
          -0.815870136355375,
          0.9730151891663172,
          -0.4324743784587975,
          0.1163646403504254,
          0.8026931511918863,
          -0.30608986555211926,
          1.9733180630581773,
          -0.41189832054875825,
          -0.16740456509190166,
          -1.3278640309245788,
          2.0827825677137968,
          -0.17739008185766655,
          0.5024249478763295,
          -0.7347689117537515,
          0.2549327239120513,
          1.3187566308304441,
          0.8363792144700368,
          -2.1560596124828457,
          0.10334285141190122,
          -1.038037991489367,
          -2.519870442929896,
          -0.8336602166829147,
          -1.704771700406001,
          0.5564222742210051,
          0.9620961214239061,
          -0.047895518300848525,
          -1.0268391353015138,
          0.08382292096281872,
          -0.27482014267703014,
          0.3410120004365311,
          0.4083963980699319,
          0.33424911291654935,
          1.0777380970009394,
          -0.7252437612324444,
          1.0465610562021905,
          0.5323641816916185,
          0.8634960897696664,
          1.2042986285897592,
          0.3920063804691607,
          1.8589175123432315,
          -0.18494294112949863,
          0.5713324268241381,
          0.48128890022942883,
          -0.19882864655082036,
          0.4283440816619962,
          -0.745922662308549,
          -0.6342925451359505,
          -0.2840321342294382,
          -0.9463793038434529,
          0.40701432558283324,
          0.734685973640815,
          0.15246448577358712,
          0.8967024116211282,
          -1.4518640548248922,
          1.1120556719239465,
          -0.49750936263850315,
          0.3921367968359178,
          1.0629097794781328,
          0.5072941466432577,
          -1.9214877572063513,
          0.3092854163787321,
          -1.9715670193780361,
          -1.603056668041762,
          0.033925989787993,
          0.6355715273735899,
          -0.6180961647227783,
          1.0625712184896723,
          1.3488977281575094,
          0.2272479628253667,
          2.5998397293451654,
          1.9452451312097192,
          1.091112053148857,
          2.5127720309008126,
          1.125912081806503,
          0.5128449442894429,
          -0.6060530740565007,
          0.2900177237735603,
          2.0842901316654983,
          1.8353816552218472,
          0.49371207729934774,
          -0.12117295478163861,
          0.2069952419953182,
          1.7069980761586523,
          0.8055987780700186,
          0.6198823513578526,
          -0.20277896342120577,
          -0.5806930377280723,
          -1.9988090723893388,
          -0.022313684610627566,
          -0.36540336851885535,
          0.6198951059910536,
          -0.748463823713859,
          -0.8610562572625258,
          0.9168844703252992,
          -0.9223000670311634,
          0.5299105734832524,
          -0.8603836313400891,
          0.6245750322383348,
          0.09108769598307115,
          -0.4711268341527186,
          -0.9743379940238674,
          -1.0433506296504247,
          1.0839048139313687,
          0.6227095390011662,
          0.18204550685653623,
          1.5470562724457775,
          0.812531556391168,
          -1.1820917997723712,
          0.4973038834575642,
          0.7646636323196537,
          -1.0703634773854227,
          -1.001314616405483,
          -0.32355809169380145,
          -0.41142384556952083,
          1.6256230980912871,
          -0.6454270785340884,
          0.4390279784363736,
          1.4765656744761404,
          1.2812908829953955
         ],
         "z": [
          55.2453336001388,
          59.89351924115015,
          32.735893082257135,
          110.28047987476734,
          -88.58891628217012,
          36.54523180933643,
          -184.16523814715688,
          121.39642617617696,
          -41.55833039467091,
          -18.20255649168309,
          -11.962436254886857,
          13.357242843123947,
          -26.053733099075163,
          -25.007391467224544,
          -142.5344293764958,
          -52.26484510650184,
          162.140655801864,
          -204.33349814262948,
          -7.575217593058468,
          119.43091684922406,
          26.60119924961375,
          -97.88138200826148,
          23.53257376744626,
          -185.04964705021348,
          130.52136489455677,
          123.42557031362293,
          20.384775023394916,
          -42.45523757026403,
          -104.2303880117849,
          25.838179051691757,
          -53.64708255965919,
          -9.418701116049114,
          -49.361526612569776,
          -16.16756699439997,
          1.9304920379002368,
          49.592235053875584,
          -22.461165594481983,
          255.42012400832115,
          -65.37359450507049,
          -119.42879353582113,
          -94.94240922388089,
          130.9097893427027,
          -150.18520783140156,
          86.05574465322697,
          -45.99496735640731,
          29.7042336650303,
          29.705932260401838,
          44.53991074384588,
          -44.22540534673391,
          -39.450035898987544,
          -85.95206127691414,
          -259.9617071729738,
          -146.26106971128138,
          -131.58880791209072,
          -4.995833146547291,
          143.74993532033085,
          90.90827494580522,
          -60.24956904834645,
          86.38295352632572,
          -18.8363910323685,
          -71.42291396966121,
          -24.2670832301619,
          -20.618035140213294,
          96.65599030080344,
          -97.20058684466883,
          164.22223232494605,
          69.7279896875441,
          -88.97706504445138,
          216.6525682237636,
          -70.2207130677412,
          117.2226107944973,
          -99.9463551479476,
          44.954588598669744,
          58.44160206630234,
          -91.25545658003875,
          -44.68135847822333,
          -73.99264588721616,
          -35.92006677309832,
          -115.50804242154848,
          -151.62852652177068,
          19.778505479342492,
          153.42751997800633,
          -7.079233090687239,
          54.47096985109209,
          -60.47659582748061,
          -20.775486328628922,
          -38.8914806393465,
          -101.98484519849993,
          97.18896113811694,
          90.22206930487306,
          -129.8095138130301,
          -32.25527735096058,
          -169.38292357308092,
          -55.72339156526995,
          -136.0560716568864,
          45.13672794996458,
          -173.75683487311545,
          17.731873379634706,
          109.85366476388619,
          129.33014561180102,
          121.46147514900142,
          67.68111422011746,
          111.90877384648287,
          131.87554398438203,
          101.63002692556995,
          -47.63137336293858,
          -117.2218606847455,
          -4.65611119729536,
          -6.962628192170648,
          91.43071391202889,
          0.6063181418151089,
          -72.35890299314265,
          -144.93960910723484,
          177.59379477480636,
          69.27547153195947,
          78.89141147996307,
          -32.47377834053397,
          -60.893556549497376,
          -152.70025212177208,
          37.33104680858818,
          -89.15398907671921,
          -88.02952609252502,
          -88.12392635192862,
          -171.46004260461612,
          54.305432526221956,
          -53.454304133763124,
          -9.307421272593814,
          20.808609834732913,
          -35.48767613257457,
          96.29039750537297,
          -71.7786592249588,
          -114.069813236258,
          -78.64323891058119,
          99.71559275965497,
          30.865700603602058,
          -66.19152039395117,
          72.37119981636523,
          31.8189082456183,
          -1.0970740840806599,
          6.021133664182102,
          22.59415307523382,
          -234.0333389461577,
          -120.59580331760878,
          -89.35498565674921,
          -34.1899594010373,
          198.7899512265378,
          9.406673089015962,
          65.43080519693116,
          82.53072053764478,
          50.586085963834606
         ]
        }
       ],
       "layout": {
        "legend": {
         "tracegroupgap": 0
        },
        "margin": {
         "t": 60
        },
        "scene": {
         "domain": {
          "x": [
           0,
           1
          ],
          "y": [
           0,
           1
          ]
         },
         "xaxis": {
          "title": {
           "text": "feature1"
          }
         },
         "yaxis": {
          "title": {
           "text": "feature2"
          }
         },
         "zaxis": {
          "title": {
           "text": "target"
          }
         }
        },
        "template": {
         "data": {
          "bar": [
           {
            "error_x": {
             "color": "#2a3f5f"
            },
            "error_y": {
             "color": "#2a3f5f"
            },
            "marker": {
             "line": {
              "color": "#E5ECF6",
              "width": 0.5
             },
             "pattern": {
              "fillmode": "overlay",
              "size": 10,
              "solidity": 0.2
             }
            },
            "type": "bar"
           }
          ],
          "barpolar": [
           {
            "marker": {
             "line": {
              "color": "#E5ECF6",
              "width": 0.5
             },
             "pattern": {
              "fillmode": "overlay",
              "size": 10,
              "solidity": 0.2
             }
            },
            "type": "barpolar"
           }
          ],
          "carpet": [
           {
            "aaxis": {
             "endlinecolor": "#2a3f5f",
             "gridcolor": "white",
             "linecolor": "white",
             "minorgridcolor": "white",
             "startlinecolor": "#2a3f5f"
            },
            "baxis": {
             "endlinecolor": "#2a3f5f",
             "gridcolor": "white",
             "linecolor": "white",
             "minorgridcolor": "white",
             "startlinecolor": "#2a3f5f"
            },
            "type": "carpet"
           }
          ],
          "choropleth": [
           {
            "colorbar": {
             "outlinewidth": 0,
             "ticks": ""
            },
            "type": "choropleth"
           }
          ],
          "contour": [
           {
            "colorbar": {
             "outlinewidth": 0,
             "ticks": ""
            },
            "colorscale": [
             [
              0,
              "#0d0887"
             ],
             [
              0.1111111111111111,
              "#46039f"
             ],
             [
              0.2222222222222222,
              "#7201a8"
             ],
             [
              0.3333333333333333,
              "#9c179e"
             ],
             [
              0.4444444444444444,
              "#bd3786"
             ],
             [
              0.5555555555555556,
              "#d8576b"
             ],
             [
              0.6666666666666666,
              "#ed7953"
             ],
             [
              0.7777777777777778,
              "#fb9f3a"
             ],
             [
              0.8888888888888888,
              "#fdca26"
             ],
             [
              1,
              "#f0f921"
             ]
            ],
            "type": "contour"
           }
          ],
          "contourcarpet": [
           {
            "colorbar": {
             "outlinewidth": 0,
             "ticks": ""
            },
            "type": "contourcarpet"
           }
          ],
          "heatmap": [
           {
            "colorbar": {
             "outlinewidth": 0,
             "ticks": ""
            },
            "colorscale": [
             [
              0,
              "#0d0887"
             ],
             [
              0.1111111111111111,
              "#46039f"
             ],
             [
              0.2222222222222222,
              "#7201a8"
             ],
             [
              0.3333333333333333,
              "#9c179e"
             ],
             [
              0.4444444444444444,
              "#bd3786"
             ],
             [
              0.5555555555555556,
              "#d8576b"
             ],
             [
              0.6666666666666666,
              "#ed7953"
             ],
             [
              0.7777777777777778,
              "#fb9f3a"
             ],
             [
              0.8888888888888888,
              "#fdca26"
             ],
             [
              1,
              "#f0f921"
             ]
            ],
            "type": "heatmap"
           }
          ],
          "heatmapgl": [
           {
            "colorbar": {
             "outlinewidth": 0,
             "ticks": ""
            },
            "colorscale": [
             [
              0,
              "#0d0887"
             ],
             [
              0.1111111111111111,
              "#46039f"
             ],
             [
              0.2222222222222222,
              "#7201a8"
             ],
             [
              0.3333333333333333,
              "#9c179e"
             ],
             [
              0.4444444444444444,
              "#bd3786"
             ],
             [
              0.5555555555555556,
              "#d8576b"
             ],
             [
              0.6666666666666666,
              "#ed7953"
             ],
             [
              0.7777777777777778,
              "#fb9f3a"
             ],
             [
              0.8888888888888888,
              "#fdca26"
             ],
             [
              1,
              "#f0f921"
             ]
            ],
            "type": "heatmapgl"
           }
          ],
          "histogram": [
           {
            "marker": {
             "pattern": {
              "fillmode": "overlay",
              "size": 10,
              "solidity": 0.2
             }
            },
            "type": "histogram"
           }
          ],
          "histogram2d": [
           {
            "colorbar": {
             "outlinewidth": 0,
             "ticks": ""
            },
            "colorscale": [
             [
              0,
              "#0d0887"
             ],
             [
              0.1111111111111111,
              "#46039f"
             ],
             [
              0.2222222222222222,
              "#7201a8"
             ],
             [
              0.3333333333333333,
              "#9c179e"
             ],
             [
              0.4444444444444444,
              "#bd3786"
             ],
             [
              0.5555555555555556,
              "#d8576b"
             ],
             [
              0.6666666666666666,
              "#ed7953"
             ],
             [
              0.7777777777777778,
              "#fb9f3a"
             ],
             [
              0.8888888888888888,
              "#fdca26"
             ],
             [
              1,
              "#f0f921"
             ]
            ],
            "type": "histogram2d"
           }
          ],
          "histogram2dcontour": [
           {
            "colorbar": {
             "outlinewidth": 0,
             "ticks": ""
            },
            "colorscale": [
             [
              0,
              "#0d0887"
             ],
             [
              0.1111111111111111,
              "#46039f"
             ],
             [
              0.2222222222222222,
              "#7201a8"
             ],
             [
              0.3333333333333333,
              "#9c179e"
             ],
             [
              0.4444444444444444,
              "#bd3786"
             ],
             [
              0.5555555555555556,
              "#d8576b"
             ],
             [
              0.6666666666666666,
              "#ed7953"
             ],
             [
              0.7777777777777778,
              "#fb9f3a"
             ],
             [
              0.8888888888888888,
              "#fdca26"
             ],
             [
              1,
              "#f0f921"
             ]
            ],
            "type": "histogram2dcontour"
           }
          ],
          "mesh3d": [
           {
            "colorbar": {
             "outlinewidth": 0,
             "ticks": ""
            },
            "type": "mesh3d"
           }
          ],
          "parcoords": [
           {
            "line": {
             "colorbar": {
              "outlinewidth": 0,
              "ticks": ""
             }
            },
            "type": "parcoords"
           }
          ],
          "pie": [
           {
            "automargin": true,
            "type": "pie"
           }
          ],
          "scatter": [
           {
            "fillpattern": {
             "fillmode": "overlay",
             "size": 10,
             "solidity": 0.2
            },
            "type": "scatter"
           }
          ],
          "scatter3d": [
           {
            "line": {
             "colorbar": {
              "outlinewidth": 0,
              "ticks": ""
             }
            },
            "marker": {
             "colorbar": {
              "outlinewidth": 0,
              "ticks": ""
             }
            },
            "type": "scatter3d"
           }
          ],
          "scattercarpet": [
           {
            "marker": {
             "colorbar": {
              "outlinewidth": 0,
              "ticks": ""
             }
            },
            "type": "scattercarpet"
           }
          ],
          "scattergeo": [
           {
            "marker": {
             "colorbar": {
              "outlinewidth": 0,
              "ticks": ""
             }
            },
            "type": "scattergeo"
           }
          ],
          "scattergl": [
           {
            "marker": {
             "colorbar": {
              "outlinewidth": 0,
              "ticks": ""
             }
            },
            "type": "scattergl"
           }
          ],
          "scattermapbox": [
           {
            "marker": {
             "colorbar": {
              "outlinewidth": 0,
              "ticks": ""
             }
            },
            "type": "scattermapbox"
           }
          ],
          "scatterpolar": [
           {
            "marker": {
             "colorbar": {
              "outlinewidth": 0,
              "ticks": ""
             }
            },
            "type": "scatterpolar"
           }
          ],
          "scatterpolargl": [
           {
            "marker": {
             "colorbar": {
              "outlinewidth": 0,
              "ticks": ""
             }
            },
            "type": "scatterpolargl"
           }
          ],
          "scatterternary": [
           {
            "marker": {
             "colorbar": {
              "outlinewidth": 0,
              "ticks": ""
             }
            },
            "type": "scatterternary"
           }
          ],
          "surface": [
           {
            "colorbar": {
             "outlinewidth": 0,
             "ticks": ""
            },
            "colorscale": [
             [
              0,
              "#0d0887"
             ],
             [
              0.1111111111111111,
              "#46039f"
             ],
             [
              0.2222222222222222,
              "#7201a8"
             ],
             [
              0.3333333333333333,
              "#9c179e"
             ],
             [
              0.4444444444444444,
              "#bd3786"
             ],
             [
              0.5555555555555556,
              "#d8576b"
             ],
             [
              0.6666666666666666,
              "#ed7953"
             ],
             [
              0.7777777777777778,
              "#fb9f3a"
             ],
             [
              0.8888888888888888,
              "#fdca26"
             ],
             [
              1,
              "#f0f921"
             ]
            ],
            "type": "surface"
           }
          ],
          "table": [
           {
            "cells": {
             "fill": {
              "color": "#EBF0F8"
             },
             "line": {
              "color": "white"
             }
            },
            "header": {
             "fill": {
              "color": "#C8D4E3"
             },
             "line": {
              "color": "white"
             }
            },
            "type": "table"
           }
          ]
         },
         "layout": {
          "annotationdefaults": {
           "arrowcolor": "#2a3f5f",
           "arrowhead": 0,
           "arrowwidth": 1
          },
          "autotypenumbers": "strict",
          "coloraxis": {
           "colorbar": {
            "outlinewidth": 0,
            "ticks": ""
           }
          },
          "colorscale": {
           "diverging": [
            [
             0,
             "#8e0152"
            ],
            [
             0.1,
             "#c51b7d"
            ],
            [
             0.2,
             "#de77ae"
            ],
            [
             0.3,
             "#f1b6da"
            ],
            [
             0.4,
             "#fde0ef"
            ],
            [
             0.5,
             "#f7f7f7"
            ],
            [
             0.6,
             "#e6f5d0"
            ],
            [
             0.7,
             "#b8e186"
            ],
            [
             0.8,
             "#7fbc41"
            ],
            [
             0.9,
             "#4d9221"
            ],
            [
             1,
             "#276419"
            ]
           ],
           "sequential": [
            [
             0,
             "#0d0887"
            ],
            [
             0.1111111111111111,
             "#46039f"
            ],
            [
             0.2222222222222222,
             "#7201a8"
            ],
            [
             0.3333333333333333,
             "#9c179e"
            ],
            [
             0.4444444444444444,
             "#bd3786"
            ],
            [
             0.5555555555555556,
             "#d8576b"
            ],
            [
             0.6666666666666666,
             "#ed7953"
            ],
            [
             0.7777777777777778,
             "#fb9f3a"
            ],
            [
             0.8888888888888888,
             "#fdca26"
            ],
            [
             1,
             "#f0f921"
            ]
           ],
           "sequentialminus": [
            [
             0,
             "#0d0887"
            ],
            [
             0.1111111111111111,
             "#46039f"
            ],
            [
             0.2222222222222222,
             "#7201a8"
            ],
            [
             0.3333333333333333,
             "#9c179e"
            ],
            [
             0.4444444444444444,
             "#bd3786"
            ],
            [
             0.5555555555555556,
             "#d8576b"
            ],
            [
             0.6666666666666666,
             "#ed7953"
            ],
            [
             0.7777777777777778,
             "#fb9f3a"
            ],
            [
             0.8888888888888888,
             "#fdca26"
            ],
            [
             1,
             "#f0f921"
            ]
           ]
          },
          "colorway": [
           "#636efa",
           "#EF553B",
           "#00cc96",
           "#ab63fa",
           "#FFA15A",
           "#19d3f3",
           "#FF6692",
           "#B6E880",
           "#FF97FF",
           "#FECB52"
          ],
          "font": {
           "color": "#2a3f5f"
          },
          "geo": {
           "bgcolor": "white",
           "lakecolor": "white",
           "landcolor": "#E5ECF6",
           "showlakes": true,
           "showland": true,
           "subunitcolor": "white"
          },
          "hoverlabel": {
           "align": "left"
          },
          "hovermode": "closest",
          "mapbox": {
           "style": "light"
          },
          "paper_bgcolor": "white",
          "plot_bgcolor": "#E5ECF6",
          "polar": {
           "angularaxis": {
            "gridcolor": "white",
            "linecolor": "white",
            "ticks": ""
           },
           "bgcolor": "#E5ECF6",
           "radialaxis": {
            "gridcolor": "white",
            "linecolor": "white",
            "ticks": ""
           }
          },
          "scene": {
           "xaxis": {
            "backgroundcolor": "#E5ECF6",
            "gridcolor": "white",
            "gridwidth": 2,
            "linecolor": "white",
            "showbackground": true,
            "ticks": "",
            "zerolinecolor": "white"
           },
           "yaxis": {
            "backgroundcolor": "#E5ECF6",
            "gridcolor": "white",
            "gridwidth": 2,
            "linecolor": "white",
            "showbackground": true,
            "ticks": "",
            "zerolinecolor": "white"
           },
           "zaxis": {
            "backgroundcolor": "#E5ECF6",
            "gridcolor": "white",
            "gridwidth": 2,
            "linecolor": "white",
            "showbackground": true,
            "ticks": "",
            "zerolinecolor": "white"
           }
          },
          "shapedefaults": {
           "line": {
            "color": "#2a3f5f"
           }
          },
          "ternary": {
           "aaxis": {
            "gridcolor": "white",
            "linecolor": "white",
            "ticks": ""
           },
           "baxis": {
            "gridcolor": "white",
            "linecolor": "white",
            "ticks": ""
           },
           "bgcolor": "#E5ECF6",
           "caxis": {
            "gridcolor": "white",
            "linecolor": "white",
            "ticks": ""
           }
          },
          "title": {
           "x": 0.05
          },
          "xaxis": {
           "automargin": true,
           "gridcolor": "white",
           "linecolor": "white",
           "ticks": "",
           "title": {
            "standoff": 15
           },
           "zerolinecolor": "white",
           "zerolinewidth": 2
          },
          "yaxis": {
           "automargin": true,
           "gridcolor": "white",
           "linecolor": "white",
           "ticks": "",
           "title": {
            "standoff": 15
           },
           "zerolinecolor": "white",
           "zerolinewidth": 2
          }
         }
        }
       }
      },
      "text/html": [
       "<div>                            <div id=\"6c2c47d1-6906-4227-83bd-d6d3aecce28c\" class=\"plotly-graph-div\" style=\"height:525px; width:100%;\"></div>            <script type=\"text/javascript\">                require([\"plotly\"], function(Plotly) {                    window.PLOTLYENV=window.PLOTLYENV || {};                                    if (document.getElementById(\"6c2c47d1-6906-4227-83bd-d6d3aecce28c\")) {                    Plotly.newPlot(                        \"6c2c47d1-6906-4227-83bd-d6d3aecce28c\",                        [{\"hovertemplate\":\"feature1=%{x}<br>feature2=%{y}<br>target=%{z}<extra></extra>\",\"legendgroup\":\"\",\"marker\":{\"color\":\"#636efa\",\"symbol\":\"circle\"},\"mode\":\"markers\",\"name\":\"\",\"scene\":\"scene\",\"showlegend\":false,\"x\":[0.3750089844548725,1.4032285472224784,2.1775469474850295,0.7023264984834311,-0.934221273875797,0.516229957354304,-0.3663319387997544,0.7386083881176758,-0.3705050444893175,-2.075373953606049,-0.020055124571840353,-1.4699726472622212,0.35007094780214465,-0.5511152023624395,-1.821370633585345,0.07481984778909095,0.16456957564842592,-1.3117652426667235,0.0478091309421163,-0.06879850530574581,1.4204020136478506,-0.8020324302326187,1.7127199030775013,-2.0748088700472596,0.32758971560810396,1.4158723229917485,0.45064504515914144,1.0757535325252459,1.019833655622222,-0.5935338812484172,1.0587348566099286,0.10679228654089676,-1.6491426766974364,0.8063788858378316,-1.5726551684133694,1.597040114031717,-0.4287221593733437,-0.23545537924112417,-0.19030963157863476,-0.7745562488059375,0.2538973416447118,-0.21451614391494706,-0.7919712311257091,-0.006420492358956677,0.01839486849780036,1.229453985745914,-1.140989032770609,-0.09830150831962342,1.1078384756845918,-0.26808745198856315,0.621833932740884,-0.7863785329139269,-1.6570799252852888,-0.6418137465617161,0.08273055874747126,1.2582142717508846,0.8342921628385679,0.9979963893582886,-0.023740857423198546,0.5493433915042542,-0.48263477144043393,-0.18941007693401085,-2.0163181941040054,0.04119735560294919,-0.160892168823488,0.6630084436408126,0.6217494527789534,-1.4346349393324047,1.4386243003696273,-1.5831775548674671,-0.1606885408870961,-2.0084542321400534,-0.24569393773325376,0.6170907416441282,-0.507857672846987,-1.3525827778886548,0.11008281056077614,0.6081823703727655,-2.624181472995488,-1.421785487445186,0.20636494781918352,0.8506560537244438,-1.313203773285622,0.7219019776007358,1.4909753546442397,-0.9995838524791556,0.3352095805606414,-1.7088219865768999,0.8070352063262592,0.07861584038259885,-0.05110701850112857,-0.37772253639997855,-0.5210795440367992,0.7665478211702471,-1.8894586758156064,-0.5084446362662276,-1.4084337156915245,0.2022227982257353,-0.050765280738019454,0.9415674566193678,-2.091836867823966,-1.4171358539754433,-1.0158103775886884,0.12794395705941655,1.2569020948595333,-1.5142580878694862,-1.4201915902476259,-0.02625396510658077,-2.096567615857616,-0.7996837326386889,0.31784023332780686,-1.231464425932277,-1.874468040911766,0.1212367412307369,-0.11542617902336054,0.5481689211456999,0.37683295492894753,0.273544169833286,-0.3942870702861298,0.12555261944367135,-0.8118423081797359,-1.6424948309343084,-1.0864455602044782,-0.4705605610845895,-0.04595865404361686,0.5972385426468522,-1.9089495317475673,1.146975565486455,-1.4607903404878546,1.0029876164008427,-0.2646163017149358,-1.1225651781733494,0.7048918981746608,1.0655034693670389,-0.26068118489485576,-0.03800871616798803,-0.4441912394062017,-0.16065082833527386,0.06270227966749384,0.45807989475387795,-0.563776169900901,-1.8362013976572722,-0.40087619048018397,-1.1062014573542842,0.5467330138890436,0.25845291479822496,0.8915095791429782,0.47519578747770147,0.05328852673009228,-0.8923310842360277],\"y\":[0.14401932802691625,0.05729140524771602,-0.9221583037029101,0.9541915748763876,-1.0249090628809872,-0.6498258082927769,-1.782014604778036,1.0984272048518615,-0.6129115229464834,0.9221866990287789,-0.12801256709077688,1.118409876764145,-0.13640078911683753,-0.3933450121235607,-0.4446147528104594,-1.503245353396565,1.3001858083272517,-1.285813937555975,-0.7516036201738295,1.5816048527200164,-0.8994355799420674,-0.848196441341776,-1.0901378450550172,-1.377108896986818,0.9804729918951848,0.0016477888555801008,-0.27530261933088784,-0.5121284856903058,-1.6249088283950484,0.4026098693805654,-1.4396416985791383,-0.815870136355375,0.9730151891663172,-0.4324743784587975,0.1163646403504254,0.8026931511918863,-0.30608986555211926,1.9733180630581773,-0.41189832054875825,-0.16740456509190166,-1.3278640309245788,2.0827825677137968,-0.17739008185766655,0.5024249478763295,-0.7347689117537515,0.2549327239120513,1.3187566308304441,0.8363792144700368,-2.1560596124828457,0.10334285141190122,-1.038037991489367,-2.519870442929896,-0.8336602166829147,-1.704771700406001,0.5564222742210051,0.9620961214239061,-0.047895518300848525,-1.0268391353015138,0.08382292096281872,-0.27482014267703014,0.3410120004365311,0.4083963980699319,0.33424911291654935,1.0777380970009394,-0.7252437612324444,1.0465610562021905,0.5323641816916185,0.8634960897696664,1.2042986285897592,0.3920063804691607,1.8589175123432315,-0.18494294112949863,0.5713324268241381,0.48128890022942883,-0.19882864655082036,0.4283440816619962,-0.745922662308549,-0.6342925451359505,-0.2840321342294382,-0.9463793038434529,0.40701432558283324,0.734685973640815,0.15246448577358712,0.8967024116211282,-1.4518640548248922,1.1120556719239465,-0.49750936263850315,0.3921367968359178,1.0629097794781328,0.5072941466432577,-1.9214877572063513,0.3092854163787321,-1.9715670193780361,-1.603056668041762,0.033925989787993,0.6355715273735899,-0.6180961647227783,1.0625712184896723,1.3488977281575094,0.2272479628253667,2.5998397293451654,1.9452451312097192,1.091112053148857,2.5127720309008126,1.125912081806503,0.5128449442894429,-0.6060530740565007,0.2900177237735603,2.0842901316654983,1.8353816552218472,0.49371207729934774,-0.12117295478163861,0.2069952419953182,1.7069980761586523,0.8055987780700186,0.6198823513578526,-0.20277896342120577,-0.5806930377280723,-1.9988090723893388,-0.022313684610627566,-0.36540336851885535,0.6198951059910536,-0.748463823713859,-0.8610562572625258,0.9168844703252992,-0.9223000670311634,0.5299105734832524,-0.8603836313400891,0.6245750322383348,0.09108769598307115,-0.4711268341527186,-0.9743379940238674,-1.0433506296504247,1.0839048139313687,0.6227095390011662,0.18204550685653623,1.5470562724457775,0.812531556391168,-1.1820917997723712,0.4973038834575642,0.7646636323196537,-1.0703634773854227,-1.001314616405483,-0.32355809169380145,-0.41142384556952083,1.6256230980912871,-0.6454270785340884,0.4390279784363736,1.4765656744761404,1.2812908829953955],\"z\":[55.2453336001388,59.89351924115015,32.735893082257135,110.28047987476734,-88.58891628217012,36.54523180933643,-184.16523814715688,121.39642617617696,-41.55833039467091,-18.20255649168309,-11.962436254886857,13.357242843123947,-26.053733099075163,-25.007391467224544,-142.5344293764958,-52.26484510650184,162.140655801864,-204.33349814262948,-7.575217593058468,119.43091684922406,26.60119924961375,-97.88138200826148,23.53257376744626,-185.04964705021348,130.52136489455677,123.42557031362293,20.384775023394916,-42.45523757026403,-104.2303880117849,25.838179051691757,-53.64708255965919,-9.418701116049114,-49.361526612569776,-16.16756699439997,1.9304920379002368,49.592235053875584,-22.461165594481983,255.42012400832115,-65.37359450507049,-119.42879353582113,-94.94240922388089,130.9097893427027,-150.18520783140156,86.05574465322697,-45.99496735640731,29.7042336650303,29.705932260401838,44.53991074384588,-44.22540534673391,-39.450035898987544,-85.95206127691414,-259.9617071729738,-146.26106971128138,-131.58880791209072,-4.995833146547291,143.74993532033085,90.90827494580522,-60.24956904834645,86.38295352632572,-18.8363910323685,-71.42291396966121,-24.2670832301619,-20.618035140213294,96.65599030080344,-97.20058684466883,164.22223232494605,69.7279896875441,-88.97706504445138,216.6525682237636,-70.2207130677412,117.2226107944973,-99.9463551479476,44.954588598669744,58.44160206630234,-91.25545658003875,-44.68135847822333,-73.99264588721616,-35.92006677309832,-115.50804242154848,-151.62852652177068,19.778505479342492,153.42751997800633,-7.079233090687239,54.47096985109209,-60.47659582748061,-20.775486328628922,-38.8914806393465,-101.98484519849993,97.18896113811694,90.22206930487306,-129.8095138130301,-32.25527735096058,-169.38292357308092,-55.72339156526995,-136.0560716568864,45.13672794996458,-173.75683487311545,17.731873379634706,109.85366476388619,129.33014561180102,121.46147514900142,67.68111422011746,111.90877384648287,131.87554398438203,101.63002692556995,-47.63137336293858,-117.2218606847455,-4.65611119729536,-6.962628192170648,91.43071391202889,0.6063181418151089,-72.35890299314265,-144.93960910723484,177.59379477480636,69.27547153195947,78.89141147996307,-32.47377834053397,-60.893556549497376,-152.70025212177208,37.33104680858818,-89.15398907671921,-88.02952609252502,-88.12392635192862,-171.46004260461612,54.305432526221956,-53.454304133763124,-9.307421272593814,20.808609834732913,-35.48767613257457,96.29039750537297,-71.7786592249588,-114.069813236258,-78.64323891058119,99.71559275965497,30.865700603602058,-66.19152039395117,72.37119981636523,31.8189082456183,-1.0970740840806599,6.021133664182102,22.59415307523382,-234.0333389461577,-120.59580331760878,-89.35498565674921,-34.1899594010373,198.7899512265378,9.406673089015962,65.43080519693116,82.53072053764478,50.586085963834606],\"type\":\"scatter3d\"}],                        {\"template\":{\"data\":{\"histogram2dcontour\":[{\"type\":\"histogram2dcontour\",\"colorbar\":{\"outlinewidth\":0,\"ticks\":\"\"},\"colorscale\":[[0.0,\"#0d0887\"],[0.1111111111111111,\"#46039f\"],[0.2222222222222222,\"#7201a8\"],[0.3333333333333333,\"#9c179e\"],[0.4444444444444444,\"#bd3786\"],[0.5555555555555556,\"#d8576b\"],[0.6666666666666666,\"#ed7953\"],[0.7777777777777778,\"#fb9f3a\"],[0.8888888888888888,\"#fdca26\"],[1.0,\"#f0f921\"]]}],\"choropleth\":[{\"type\":\"choropleth\",\"colorbar\":{\"outlinewidth\":0,\"ticks\":\"\"}}],\"histogram2d\":[{\"type\":\"histogram2d\",\"colorbar\":{\"outlinewidth\":0,\"ticks\":\"\"},\"colorscale\":[[0.0,\"#0d0887\"],[0.1111111111111111,\"#46039f\"],[0.2222222222222222,\"#7201a8\"],[0.3333333333333333,\"#9c179e\"],[0.4444444444444444,\"#bd3786\"],[0.5555555555555556,\"#d8576b\"],[0.6666666666666666,\"#ed7953\"],[0.7777777777777778,\"#fb9f3a\"],[0.8888888888888888,\"#fdca26\"],[1.0,\"#f0f921\"]]}],\"heatmap\":[{\"type\":\"heatmap\",\"colorbar\":{\"outlinewidth\":0,\"ticks\":\"\"},\"colorscale\":[[0.0,\"#0d0887\"],[0.1111111111111111,\"#46039f\"],[0.2222222222222222,\"#7201a8\"],[0.3333333333333333,\"#9c179e\"],[0.4444444444444444,\"#bd3786\"],[0.5555555555555556,\"#d8576b\"],[0.6666666666666666,\"#ed7953\"],[0.7777777777777778,\"#fb9f3a\"],[0.8888888888888888,\"#fdca26\"],[1.0,\"#f0f921\"]]}],\"heatmapgl\":[{\"type\":\"heatmapgl\",\"colorbar\":{\"outlinewidth\":0,\"ticks\":\"\"},\"colorscale\":[[0.0,\"#0d0887\"],[0.1111111111111111,\"#46039f\"],[0.2222222222222222,\"#7201a8\"],[0.3333333333333333,\"#9c179e\"],[0.4444444444444444,\"#bd3786\"],[0.5555555555555556,\"#d8576b\"],[0.6666666666666666,\"#ed7953\"],[0.7777777777777778,\"#fb9f3a\"],[0.8888888888888888,\"#fdca26\"],[1.0,\"#f0f921\"]]}],\"contourcarpet\":[{\"type\":\"contourcarpet\",\"colorbar\":{\"outlinewidth\":0,\"ticks\":\"\"}}],\"contour\":[{\"type\":\"contour\",\"colorbar\":{\"outlinewidth\":0,\"ticks\":\"\"},\"colorscale\":[[0.0,\"#0d0887\"],[0.1111111111111111,\"#46039f\"],[0.2222222222222222,\"#7201a8\"],[0.3333333333333333,\"#9c179e\"],[0.4444444444444444,\"#bd3786\"],[0.5555555555555556,\"#d8576b\"],[0.6666666666666666,\"#ed7953\"],[0.7777777777777778,\"#fb9f3a\"],[0.8888888888888888,\"#fdca26\"],[1.0,\"#f0f921\"]]}],\"surface\":[{\"type\":\"surface\",\"colorbar\":{\"outlinewidth\":0,\"ticks\":\"\"},\"colorscale\":[[0.0,\"#0d0887\"],[0.1111111111111111,\"#46039f\"],[0.2222222222222222,\"#7201a8\"],[0.3333333333333333,\"#9c179e\"],[0.4444444444444444,\"#bd3786\"],[0.5555555555555556,\"#d8576b\"],[0.6666666666666666,\"#ed7953\"],[0.7777777777777778,\"#fb9f3a\"],[0.8888888888888888,\"#fdca26\"],[1.0,\"#f0f921\"]]}],\"mesh3d\":[{\"type\":\"mesh3d\",\"colorbar\":{\"outlinewidth\":0,\"ticks\":\"\"}}],\"scatter\":[{\"fillpattern\":{\"fillmode\":\"overlay\",\"size\":10,\"solidity\":0.2},\"type\":\"scatter\"}],\"parcoords\":[{\"type\":\"parcoords\",\"line\":{\"colorbar\":{\"outlinewidth\":0,\"ticks\":\"\"}}}],\"scatterpolargl\":[{\"type\":\"scatterpolargl\",\"marker\":{\"colorbar\":{\"outlinewidth\":0,\"ticks\":\"\"}}}],\"bar\":[{\"error_x\":{\"color\":\"#2a3f5f\"},\"error_y\":{\"color\":\"#2a3f5f\"},\"marker\":{\"line\":{\"color\":\"#E5ECF6\",\"width\":0.5},\"pattern\":{\"fillmode\":\"overlay\",\"size\":10,\"solidity\":0.2}},\"type\":\"bar\"}],\"scattergeo\":[{\"type\":\"scattergeo\",\"marker\":{\"colorbar\":{\"outlinewidth\":0,\"ticks\":\"\"}}}],\"scatterpolar\":[{\"type\":\"scatterpolar\",\"marker\":{\"colorbar\":{\"outlinewidth\":0,\"ticks\":\"\"}}}],\"histogram\":[{\"marker\":{\"pattern\":{\"fillmode\":\"overlay\",\"size\":10,\"solidity\":0.2}},\"type\":\"histogram\"}],\"scattergl\":[{\"type\":\"scattergl\",\"marker\":{\"colorbar\":{\"outlinewidth\":0,\"ticks\":\"\"}}}],\"scatter3d\":[{\"type\":\"scatter3d\",\"line\":{\"colorbar\":{\"outlinewidth\":0,\"ticks\":\"\"}},\"marker\":{\"colorbar\":{\"outlinewidth\":0,\"ticks\":\"\"}}}],\"scattermapbox\":[{\"type\":\"scattermapbox\",\"marker\":{\"colorbar\":{\"outlinewidth\":0,\"ticks\":\"\"}}}],\"scatterternary\":[{\"type\":\"scatterternary\",\"marker\":{\"colorbar\":{\"outlinewidth\":0,\"ticks\":\"\"}}}],\"scattercarpet\":[{\"type\":\"scattercarpet\",\"marker\":{\"colorbar\":{\"outlinewidth\":0,\"ticks\":\"\"}}}],\"carpet\":[{\"aaxis\":{\"endlinecolor\":\"#2a3f5f\",\"gridcolor\":\"white\",\"linecolor\":\"white\",\"minorgridcolor\":\"white\",\"startlinecolor\":\"#2a3f5f\"},\"baxis\":{\"endlinecolor\":\"#2a3f5f\",\"gridcolor\":\"white\",\"linecolor\":\"white\",\"minorgridcolor\":\"white\",\"startlinecolor\":\"#2a3f5f\"},\"type\":\"carpet\"}],\"table\":[{\"cells\":{\"fill\":{\"color\":\"#EBF0F8\"},\"line\":{\"color\":\"white\"}},\"header\":{\"fill\":{\"color\":\"#C8D4E3\"},\"line\":{\"color\":\"white\"}},\"type\":\"table\"}],\"barpolar\":[{\"marker\":{\"line\":{\"color\":\"#E5ECF6\",\"width\":0.5},\"pattern\":{\"fillmode\":\"overlay\",\"size\":10,\"solidity\":0.2}},\"type\":\"barpolar\"}],\"pie\":[{\"automargin\":true,\"type\":\"pie\"}]},\"layout\":{\"autotypenumbers\":\"strict\",\"colorway\":[\"#636efa\",\"#EF553B\",\"#00cc96\",\"#ab63fa\",\"#FFA15A\",\"#19d3f3\",\"#FF6692\",\"#B6E880\",\"#FF97FF\",\"#FECB52\"],\"font\":{\"color\":\"#2a3f5f\"},\"hovermode\":\"closest\",\"hoverlabel\":{\"align\":\"left\"},\"paper_bgcolor\":\"white\",\"plot_bgcolor\":\"#E5ECF6\",\"polar\":{\"bgcolor\":\"#E5ECF6\",\"angularaxis\":{\"gridcolor\":\"white\",\"linecolor\":\"white\",\"ticks\":\"\"},\"radialaxis\":{\"gridcolor\":\"white\",\"linecolor\":\"white\",\"ticks\":\"\"}},\"ternary\":{\"bgcolor\":\"#E5ECF6\",\"aaxis\":{\"gridcolor\":\"white\",\"linecolor\":\"white\",\"ticks\":\"\"},\"baxis\":{\"gridcolor\":\"white\",\"linecolor\":\"white\",\"ticks\":\"\"},\"caxis\":{\"gridcolor\":\"white\",\"linecolor\":\"white\",\"ticks\":\"\"}},\"coloraxis\":{\"colorbar\":{\"outlinewidth\":0,\"ticks\":\"\"}},\"colorscale\":{\"sequential\":[[0.0,\"#0d0887\"],[0.1111111111111111,\"#46039f\"],[0.2222222222222222,\"#7201a8\"],[0.3333333333333333,\"#9c179e\"],[0.4444444444444444,\"#bd3786\"],[0.5555555555555556,\"#d8576b\"],[0.6666666666666666,\"#ed7953\"],[0.7777777777777778,\"#fb9f3a\"],[0.8888888888888888,\"#fdca26\"],[1.0,\"#f0f921\"]],\"sequentialminus\":[[0.0,\"#0d0887\"],[0.1111111111111111,\"#46039f\"],[0.2222222222222222,\"#7201a8\"],[0.3333333333333333,\"#9c179e\"],[0.4444444444444444,\"#bd3786\"],[0.5555555555555556,\"#d8576b\"],[0.6666666666666666,\"#ed7953\"],[0.7777777777777778,\"#fb9f3a\"],[0.8888888888888888,\"#fdca26\"],[1.0,\"#f0f921\"]],\"diverging\":[[0,\"#8e0152\"],[0.1,\"#c51b7d\"],[0.2,\"#de77ae\"],[0.3,\"#f1b6da\"],[0.4,\"#fde0ef\"],[0.5,\"#f7f7f7\"],[0.6,\"#e6f5d0\"],[0.7,\"#b8e186\"],[0.8,\"#7fbc41\"],[0.9,\"#4d9221\"],[1,\"#276419\"]]},\"xaxis\":{\"gridcolor\":\"white\",\"linecolor\":\"white\",\"ticks\":\"\",\"title\":{\"standoff\":15},\"zerolinecolor\":\"white\",\"automargin\":true,\"zerolinewidth\":2},\"yaxis\":{\"gridcolor\":\"white\",\"linecolor\":\"white\",\"ticks\":\"\",\"title\":{\"standoff\":15},\"zerolinecolor\":\"white\",\"automargin\":true,\"zerolinewidth\":2},\"scene\":{\"xaxis\":{\"backgroundcolor\":\"#E5ECF6\",\"gridcolor\":\"white\",\"linecolor\":\"white\",\"showbackground\":true,\"ticks\":\"\",\"zerolinecolor\":\"white\",\"gridwidth\":2},\"yaxis\":{\"backgroundcolor\":\"#E5ECF6\",\"gridcolor\":\"white\",\"linecolor\":\"white\",\"showbackground\":true,\"ticks\":\"\",\"zerolinecolor\":\"white\",\"gridwidth\":2},\"zaxis\":{\"backgroundcolor\":\"#E5ECF6\",\"gridcolor\":\"white\",\"linecolor\":\"white\",\"showbackground\":true,\"ticks\":\"\",\"zerolinecolor\":\"white\",\"gridwidth\":2}},\"shapedefaults\":{\"line\":{\"color\":\"#2a3f5f\"}},\"annotationdefaults\":{\"arrowcolor\":\"#2a3f5f\",\"arrowhead\":0,\"arrowwidth\":1},\"geo\":{\"bgcolor\":\"white\",\"landcolor\":\"#E5ECF6\",\"subunitcolor\":\"white\",\"showland\":true,\"showlakes\":true,\"lakecolor\":\"white\"},\"title\":{\"x\":0.05},\"mapbox\":{\"style\":\"light\"}}},\"scene\":{\"domain\":{\"x\":[0.0,1.0],\"y\":[0.0,1.0]},\"xaxis\":{\"title\":{\"text\":\"feature1\"}},\"yaxis\":{\"title\":{\"text\":\"feature2\"}},\"zaxis\":{\"title\":{\"text\":\"target\"}}},\"legend\":{\"tracegroupgap\":0},\"margin\":{\"t\":60}},                        {\"responsive\": true}                    ).then(function(){\n",
       "                            \n",
       "var gd = document.getElementById('6c2c47d1-6906-4227-83bd-d6d3aecce28c');\n",
       "var x = new MutationObserver(function (mutations, observer) {{\n",
       "        var display = window.getComputedStyle(gd).display;\n",
       "        if (!display || display === 'none') {{\n",
       "            console.log([gd, 'removed!']);\n",
       "            Plotly.purge(gd);\n",
       "            observer.disconnect();\n",
       "        }}\n",
       "}});\n",
       "\n",
       "// Listen for the removal of the full notebook cells\n",
       "var notebookContainer = gd.closest('#notebook-container');\n",
       "if (notebookContainer) {{\n",
       "    x.observe(notebookContainer, {childList: true});\n",
       "}}\n",
       "\n",
       "// Listen for the clearing of the current output cell\n",
       "var outputEl = gd.closest('.output');\n",
       "if (outputEl) {{\n",
       "    x.observe(outputEl, {childList: true});\n",
       "}}\n",
       "\n",
       "                        })                };                });            </script>        </div>"
      ]
     },
     "metadata": {},
     "output_type": "display_data"
    }
   ],
   "source": [
    "import plotly.express as px\n",
    "px.scatter_3d(data,x=\"feature1\",y=\"feature2\",z=\"target\")"
   ]
  },
  {
   "cell_type": "code",
   "execution_count": 40,
   "id": "aad15064",
   "metadata": {},
   "outputs": [],
   "source": [
    "from sklearn.model_selection import train_test_split\n",
    "x_train,x_test,y_train,y_test= train_test_split(x,y,test_size=0.15,random_state=3)"
   ]
  },
  {
   "cell_type": "code",
   "execution_count": 41,
   "id": "7710d164",
   "metadata": {},
   "outputs": [
    {
     "data": {
      "text/plain": [
       "array([[ 0.11008281, -0.74592266],\n",
       "       [ 0.51622996, -0.64982581],\n",
       "       [-0.79968373,  1.83538166],\n",
       "       [-0.26068118,  0.62270954],\n",
       "       [-1.43463494,  0.86349609],\n",
       "       [ 0.99799639, -1.02683914],\n",
       "       [ 0.33520958, -0.49750936],\n",
       "       [-1.82137063, -0.44461475],\n",
       "       [ 0.32758972,  0.98047299],\n",
       "       [ 0.45807989,  0.49730388],\n",
       "       [-0.02374086,  0.08382292],\n",
       "       [-0.37050504, -0.61291152],\n",
       "       [ 1.07575353, -0.51212849],\n",
       "       [ 0.60818237, -0.63429255],\n",
       "       [-0.21451614,  2.08278257],\n",
       "       [-1.23146443, -0.12117295],\n",
       "       [ 1.4386243 ,  1.20429863],\n",
       "       [-1.46079034,  0.62457503],\n",
       "       [-1.31320377,  0.15246449],\n",
       "       [ 1.7127199 , -1.09013785],\n",
       "       [-1.31176524, -1.28581394],\n",
       "       [ 1.14697557, -0.86038363],\n",
       "       [-0.78637853, -2.51987044],\n",
       "       [-2.07480887, -1.3771089 ],\n",
       "       [ 0.72190198,  0.89670241],\n",
       "       [-0.40087619, -1.00131462],\n",
       "       [ 1.49097535, -1.45186405],\n",
       "       [ 1.22945399,  0.25493272],\n",
       "       [ 1.59704011,  0.80269315],\n",
       "       [-1.41713585,  1.94524513],\n",
       "       [ 0.62183393, -1.03803799],\n",
       "       [ 0.61709074,  0.4812889 ],\n",
       "       [-1.57265517,  0.11636464],\n",
       "       [-0.44419124,  1.54705627],\n",
       "       [-0.06879851,  1.58160485],\n",
       "       [ 0.37683295, -0.20277896],\n",
       "       [-1.40843372, -0.61809616],\n",
       "       [-0.93422127, -1.02490906],\n",
       "       [ 0.35007095, -0.13640079],\n",
       "       [-1.10620146, -0.32355809],\n",
       "       [-0.16068854,  1.85891751],\n",
       "       [-0.02005512, -0.12801257],\n",
       "       [-1.46997265,  1.11840988],\n",
       "       [-0.05076528,  1.34889773],\n",
       "       [-0.16065083,  0.81253156],\n",
       "       [-2.09183687,  2.59983973],\n",
       "       [-2.07537395,  0.9221867 ],\n",
       "       [-0.04595865,  0.91688447],\n",
       "       [-0.50844464,  0.63557153],\n",
       "       [-0.59353388,  0.40260987],\n",
       "       [-0.77455625, -0.16740457],\n",
       "       [-0.2646163 , -0.47112683],\n",
       "       [ 0.27354417, -0.58069304],\n",
       "       [-0.11542618,  0.80559878],\n",
       "       [ 0.94156746,  0.22724796],\n",
       "       [ 0.54934339, -0.27482014],\n",
       "       [-1.70882199,  0.3921368 ],\n",
       "       [ 0.01839487, -0.73476891],\n",
       "       [-0.42872216, -0.30608987],\n",
       "       [ 0.54816892,  0.61988235],\n",
       "       [ 0.54673301, -0.41142385],\n",
       "       [-1.65707993, -0.83366022],\n",
       "       [-1.01581038,  1.09111205],\n",
       "       [-0.18941008,  0.4083964 ],\n",
       "       [-1.08644556, -0.74846382],\n",
       "       [ 1.05873486, -1.4396417 ],\n",
       "       [ 1.06550347,  1.08390481],\n",
       "       [-0.5511152 , -0.39334501],\n",
       "       [ 1.25821427,  0.96209612],\n",
       "       [-1.35258278,  0.42834408],\n",
       "       [ 0.7048919 , -1.04335063],\n",
       "       [ 0.05328853,  1.47656567],\n",
       "       [-1.64914268,  0.97301519],\n",
       "       [ 0.20636495,  0.40701433],\n",
       "       [ 0.16456958,  1.30018581],\n",
       "       [-0.37772254,  0.30928542],\n",
       "       [-0.50785767, -0.19882865],\n",
       "       [-0.99958385,  1.11205567],\n",
       "       [ 1.40322855,  0.05729141],\n",
       "       [ 0.59723854, -0.92230007],\n",
       "       [-1.14098903,  1.31875663],\n",
       "       [-2.09656762,  2.08429013],\n",
       "       [-2.00845423, -0.18494294],\n",
       "       [ 0.25845291,  1.6256231 ],\n",
       "       [ 0.83429216, -0.04789552],\n",
       "       [-1.64249483,  0.61989511],\n",
       "       [ 0.04119736,  1.0777381 ],\n",
       "       [ 0.04780913, -0.75160362],\n",
       "       [-1.51425809,  0.51284494],\n",
       "       [-0.16089217, -0.72524376],\n",
       "       [ 0.47519579,  0.43902798],\n",
       "       [ 0.08273056,  0.55642227],\n",
       "       [ 1.01983366, -1.62490883],\n",
       "       [-2.62418147, -0.28403213],\n",
       "       [ 0.89150958, -0.64542708],\n",
       "       [-0.26808745,  0.10334285],\n",
       "       [-1.88945868,  0.03392599],\n",
       "       [ 1.42040201, -0.89943558],\n",
       "       [-0.23545538,  1.97331806],\n",
       "       [ 1.10783848, -2.15605961],\n",
       "       [-1.42178549, -0.9463793 ],\n",
       "       [-0.47056056, -0.86105626],\n",
       "       [ 0.80637889, -0.43247438],\n",
       "       [-0.00642049,  0.50242495],\n",
       "       [-0.81184231, -0.36540337],\n",
       "       [ 0.73860839,  1.0984272 ],\n",
       "       [-2.01631819,  0.33424911],\n",
       "       [-0.89233108,  1.28129088],\n",
       "       [ 0.2022228 ,  1.06257122],\n",
       "       [ 0.31784023,  0.49371208],\n",
       "       [ 1.25690209,  1.12591208],\n",
       "       [-1.58317755,  0.39200638],\n",
       "       [-0.05110702, -1.92148776],\n",
       "       [ 1.00298762,  0.0910877 ],\n",
       "       [-0.48263477,  0.341012  ],\n",
       "       [ 2.17754695, -0.9221583 ],\n",
       "       [ 0.62174945,  0.53236418],\n",
       "       [ 0.85065605,  0.73468597],\n",
       "       [ 0.45064505, -0.27530262],\n",
       "       [ 0.76654782, -1.60305667],\n",
       "       [ 0.12555262, -0.02231368],\n",
       "       [ 0.06270228, -1.1820918 ],\n",
       "       [-0.02625397,  0.29001772],\n",
       "       [-0.80203243, -0.84819644],\n",
       "       [ 0.37500898,  0.14401933],\n",
       "       [-1.12256518, -0.97433799],\n",
       "       [-1.42019159, -0.60605307]])"
      ]
     },
     "execution_count": 41,
     "metadata": {},
     "output_type": "execute_result"
    }
   ],
   "source": [
    "x_train"
   ]
  },
  {
   "cell_type": "code",
   "execution_count": 42,
   "id": "56896286",
   "metadata": {},
   "outputs": [
    {
     "data": {
      "text/plain": [
       "(127, 2)"
      ]
     },
     "execution_count": 42,
     "metadata": {},
     "output_type": "execute_result"
    }
   ],
   "source": [
    "x_train.shape"
   ]
  },
  {
   "cell_type": "code",
   "execution_count": 43,
   "id": "24af5081",
   "metadata": {},
   "outputs": [
    {
     "data": {
      "text/plain": [
       "(127,)"
      ]
     },
     "execution_count": 43,
     "metadata": {},
     "output_type": "execute_result"
    }
   ],
   "source": [
    "y_train.shape"
   ]
  },
  {
   "cell_type": "code",
   "execution_count": 44,
   "id": "066ac8d2",
   "metadata": {},
   "outputs": [],
   "source": [
    "model2=LinearRegression()"
   ]
  },
  {
   "cell_type": "code",
   "execution_count": 46,
   "id": "a01f79ff",
   "metadata": {},
   "outputs": [
    {
     "data": {
      "text/html": [
       "<style>#sk-container-id-2 {color: black;background-color: white;}#sk-container-id-2 pre{padding: 0;}#sk-container-id-2 div.sk-toggleable {background-color: white;}#sk-container-id-2 label.sk-toggleable__label {cursor: pointer;display: block;width: 100%;margin-bottom: 0;padding: 0.3em;box-sizing: border-box;text-align: center;}#sk-container-id-2 label.sk-toggleable__label-arrow:before {content: \"▸\";float: left;margin-right: 0.25em;color: #696969;}#sk-container-id-2 label.sk-toggleable__label-arrow:hover:before {color: black;}#sk-container-id-2 div.sk-estimator:hover label.sk-toggleable__label-arrow:before {color: black;}#sk-container-id-2 div.sk-toggleable__content {max-height: 0;max-width: 0;overflow: hidden;text-align: left;background-color: #f0f8ff;}#sk-container-id-2 div.sk-toggleable__content pre {margin: 0.2em;color: black;border-radius: 0.25em;background-color: #f0f8ff;}#sk-container-id-2 input.sk-toggleable__control:checked~div.sk-toggleable__content {max-height: 200px;max-width: 100%;overflow: auto;}#sk-container-id-2 input.sk-toggleable__control:checked~label.sk-toggleable__label-arrow:before {content: \"▾\";}#sk-container-id-2 div.sk-estimator input.sk-toggleable__control:checked~label.sk-toggleable__label {background-color: #d4ebff;}#sk-container-id-2 div.sk-label input.sk-toggleable__control:checked~label.sk-toggleable__label {background-color: #d4ebff;}#sk-container-id-2 input.sk-hidden--visually {border: 0;clip: rect(1px 1px 1px 1px);clip: rect(1px, 1px, 1px, 1px);height: 1px;margin: -1px;overflow: hidden;padding: 0;position: absolute;width: 1px;}#sk-container-id-2 div.sk-estimator {font-family: monospace;background-color: #f0f8ff;border: 1px dotted black;border-radius: 0.25em;box-sizing: border-box;margin-bottom: 0.5em;}#sk-container-id-2 div.sk-estimator:hover {background-color: #d4ebff;}#sk-container-id-2 div.sk-parallel-item::after {content: \"\";width: 100%;border-bottom: 1px solid gray;flex-grow: 1;}#sk-container-id-2 div.sk-label:hover label.sk-toggleable__label {background-color: #d4ebff;}#sk-container-id-2 div.sk-serial::before {content: \"\";position: absolute;border-left: 1px solid gray;box-sizing: border-box;top: 0;bottom: 0;left: 50%;z-index: 0;}#sk-container-id-2 div.sk-serial {display: flex;flex-direction: column;align-items: center;background-color: white;padding-right: 0.2em;padding-left: 0.2em;position: relative;}#sk-container-id-2 div.sk-item {position: relative;z-index: 1;}#sk-container-id-2 div.sk-parallel {display: flex;align-items: stretch;justify-content: center;background-color: white;position: relative;}#sk-container-id-2 div.sk-item::before, #sk-container-id-2 div.sk-parallel-item::before {content: \"\";position: absolute;border-left: 1px solid gray;box-sizing: border-box;top: 0;bottom: 0;left: 50%;z-index: -1;}#sk-container-id-2 div.sk-parallel-item {display: flex;flex-direction: column;z-index: 1;position: relative;background-color: white;}#sk-container-id-2 div.sk-parallel-item:first-child::after {align-self: flex-end;width: 50%;}#sk-container-id-2 div.sk-parallel-item:last-child::after {align-self: flex-start;width: 50%;}#sk-container-id-2 div.sk-parallel-item:only-child::after {width: 0;}#sk-container-id-2 div.sk-dashed-wrapped {border: 1px dashed gray;margin: 0 0.4em 0.5em 0.4em;box-sizing: border-box;padding-bottom: 0.4em;background-color: white;}#sk-container-id-2 div.sk-label label {font-family: monospace;font-weight: bold;display: inline-block;line-height: 1.2em;}#sk-container-id-2 div.sk-label-container {text-align: center;}#sk-container-id-2 div.sk-container {/* jupyter's `normalize.less` sets `[hidden] { display: none; }` but bootstrap.min.css set `[hidden] { display: none !important; }` so we also need the `!important` here to be able to override the default hidden behavior on the sphinx rendered scikit-learn.org. See: https://github.com/scikit-learn/scikit-learn/issues/21755 */display: inline-block !important;position: relative;}#sk-container-id-2 div.sk-text-repr-fallback {display: none;}</style><div id=\"sk-container-id-2\" class=\"sk-top-container\"><div class=\"sk-text-repr-fallback\"><pre>LinearRegression()</pre><b>In a Jupyter environment, please rerun this cell to show the HTML representation or trust the notebook. <br />On GitHub, the HTML representation is unable to render, please try loading this page with nbviewer.org.</b></div><div class=\"sk-container\" hidden><div class=\"sk-item\"><div class=\"sk-estimator sk-toggleable\"><input class=\"sk-toggleable__control sk-hidden--visually\" id=\"sk-estimator-id-2\" type=\"checkbox\" checked><label for=\"sk-estimator-id-2\" class=\"sk-toggleable__label sk-toggleable__label-arrow\">LinearRegression</label><div class=\"sk-toggleable__content\"><pre>LinearRegression()</pre></div></div></div></div></div>"
      ],
      "text/plain": [
       "LinearRegression()"
      ]
     },
     "execution_count": 46,
     "metadata": {},
     "output_type": "execute_result"
    }
   ],
   "source": [
    "model2.fit(x_train,y_train)"
   ]
  },
  {
   "cell_type": "code",
   "execution_count": 47,
   "id": "45e9aeae",
   "metadata": {},
   "outputs": [
    {
     "data": {
      "text/plain": [
       "0.8125201260150277"
      ]
     },
     "execution_count": 47,
     "metadata": {},
     "output_type": "execute_result"
    }
   ],
   "source": [
    "model2.score(x_train,y_train)"
   ]
  },
  {
   "cell_type": "code",
   "execution_count": 48,
   "id": "723515a5",
   "metadata": {},
   "outputs": [],
   "source": [
    "y_pred2=model2.predict(x_test)\n"
   ]
  },
  {
   "cell_type": "code",
   "execution_count": 49,
   "id": "0308d649",
   "metadata": {},
   "outputs": [
    {
     "data": {
      "text/plain": [
       "array([  54.16247507,  103.61259308,  -59.9278844 ,   68.00666686,\n",
       "       -113.33649501, -174.44652853,   38.33424059, -156.69606961,\n",
       "        191.93108059,  108.57936471,  117.11003896,  -44.54818341,\n",
       "       -178.8195882 , -164.83717186,   25.1701444 ,  -91.04767731,\n",
       "         26.72379071,    7.91906042,  130.8824349 ,  -57.37057681,\n",
       "        -60.68677226,  -83.26846869, -177.56815748])"
      ]
     },
     "execution_count": 49,
     "metadata": {},
     "output_type": "execute_result"
    }
   ],
   "source": [
    "y_pred2"
   ]
  },
  {
   "cell_type": "code",
   "execution_count": 50,
   "id": "70d9d211",
   "metadata": {},
   "outputs": [
    {
     "data": {
      "text/plain": [
       "array([  44.53991074,  110.28047987,   -9.41870112,  123.42557031,\n",
       "        -52.26484511, -152.70025212,   90.2220693 , -184.16523815,\n",
       "        131.87554398,  164.22223232,   97.18896114,  -65.37359451,\n",
       "       -169.38292357, -131.58880791,   22.59415308,  -94.94240922,\n",
       "         44.9545886 ,  -66.19152039,  177.59379477, -150.18520783,\n",
       "         -9.30742127, -144.93960911, -234.03333895])"
      ]
     },
     "execution_count": 50,
     "metadata": {},
     "output_type": "execute_result"
    }
   ],
   "source": [
    "y_test"
   ]
  },
  {
   "cell_type": "code",
   "execution_count": 52,
   "id": "3c5a1b98",
   "metadata": {},
   "outputs": [
    {
     "data": {
      "text/plain": [
       "0.8569585323690404"
      ]
     },
     "execution_count": 52,
     "metadata": {},
     "output_type": "execute_result"
    }
   ],
   "source": [
    "from sklearn.metrics import r2_score\n",
    "r2_score(y_test,y_pred2)"
   ]
  },
  {
   "cell_type": "code",
   "execution_count": 53,
   "id": "77975214",
   "metadata": {},
   "outputs": [
    {
     "data": {
      "text/plain": [
       "array([50.67756987, 75.34214768])"
      ]
     },
     "execution_count": 53,
     "metadata": {},
     "output_type": "execute_result"
    }
   ],
   "source": [
    "model2.coef_"
   ]
  },
  {
   "cell_type": "code",
   "execution_count": 54,
   "id": "1ddb058c",
   "metadata": {},
   "outputs": [
    {
     "data": {
      "text/plain": [
       "-3.8704496673995514"
      ]
     },
     "execution_count": 54,
     "metadata": {},
     "output_type": "execute_result"
    }
   ],
   "source": [
    "model2.intercept_"
   ]
  },
  {
   "cell_type": "code",
   "execution_count": null,
   "id": "d72c4120",
   "metadata": {},
   "outputs": [],
   "source": [
    "from sklearn.linear_model import LinearRegression\n",
    "\n",
    "y=m1x1+m2x2+c\n",
    "y=theta1x1+theta2x2+c\n",
    "\n",
    "y=83.06(x1)+89.76(x2)-3.56"
   ]
  },
  {
   "cell_type": "code",
   "execution_count": null,
   "id": "ffdbd41e",
   "metadata": {},
   "outputs": [],
   "source": [
    "y_test this is my actual value\n",
    "\n",
    "y_prd this is my predicted value"
   ]
  },
  {
   "cell_type": "code",
   "execution_count": 57,
   "id": "cdf6e8c7",
   "metadata": {},
   "outputs": [],
   "source": [
    "from sklearn.metrics import mean_absolute_error,mean_squared_error"
   ]
  },
  {
   "cell_type": "code",
   "execution_count": 58,
   "id": "2e3fd8fe",
   "metadata": {},
   "outputs": [
    {
     "data": {
      "text/plain": [
       "2104.8443129663465"
      ]
     },
     "execution_count": 58,
     "metadata": {},
     "output_type": "execute_result"
    }
   ],
   "source": [
    "mean_squared_error(y_test,y_pred2)"
   ]
  },
  {
   "cell_type": "code",
   "execution_count": 59,
   "id": "07b4905e",
   "metadata": {},
   "outputs": [
    {
     "data": {
      "text/plain": [
       "38.75552821099685"
      ]
     },
     "execution_count": 59,
     "metadata": {},
     "output_type": "execute_result"
    }
   ],
   "source": [
    "mean_absolute_error(y_test,y_pred2)"
   ]
  },
  {
   "cell_type": "code",
   "execution_count": null,
   "id": "1dbe3c13",
   "metadata": {},
   "outputs": [],
   "source": []
  },
  {
   "cell_type": "code",
   "execution_count": null,
   "id": "663be6d2",
   "metadata": {},
   "outputs": [],
   "source": []
  },
  {
   "cell_type": "code",
   "execution_count": null,
   "id": "5324be5d",
   "metadata": {},
   "outputs": [],
   "source": []
  },
  {
   "cell_type": "code",
   "execution_count": null,
   "id": "33c54a25",
   "metadata": {},
   "outputs": [],
   "source": []
  },
  {
   "cell_type": "code",
   "execution_count": null,
   "id": "0d4ea922",
   "metadata": {},
   "outputs": [],
   "source": []
  },
  {
   "cell_type": "markdown",
   "id": "c5d4412f",
   "metadata": {},
   "source": [
    "### Lidge Regression"
   ]
  },
  {
   "cell_type": "code",
   "execution_count": 63,
   "id": "72439dd4",
   "metadata": {},
   "outputs": [],
   "source": [
    "from sklearn.datasets import load_diabetes"
   ]
  },
  {
   "cell_type": "code",
   "execution_count": 64,
   "id": "d0e970a4",
   "metadata": {},
   "outputs": [],
   "source": [
    "data= load_diabetes()"
   ]
  },
  {
   "cell_type": "code",
   "execution_count": 65,
   "id": "e5f76809",
   "metadata": {},
   "outputs": [
    {
     "name": "stdout",
     "output_type": "stream",
     "text": [
      ".. _diabetes_dataset:\n",
      "\n",
      "Diabetes dataset\n",
      "----------------\n",
      "\n",
      "Ten baseline variables, age, sex, body mass index, average blood\n",
      "pressure, and six blood serum measurements were obtained for each of n =\n",
      "442 diabetes patients, as well as the response of interest, a\n",
      "quantitative measure of disease progression one year after baseline.\n",
      "\n",
      "**Data Set Characteristics:**\n",
      "\n",
      "  :Number of Instances: 442\n",
      "\n",
      "  :Number of Attributes: First 10 columns are numeric predictive values\n",
      "\n",
      "  :Target: Column 11 is a quantitative measure of disease progression one year after baseline\n",
      "\n",
      "  :Attribute Information:\n",
      "      - age     age in years\n",
      "      - sex\n",
      "      - bmi     body mass index\n",
      "      - bp      average blood pressure\n",
      "      - s1      tc, total serum cholesterol\n",
      "      - s2      ldl, low-density lipoproteins\n",
      "      - s3      hdl, high-density lipoproteins\n",
      "      - s4      tch, total cholesterol / HDL\n",
      "      - s5      ltg, possibly log of serum triglycerides level\n",
      "      - s6      glu, blood sugar level\n",
      "\n",
      "Note: Each of these 10 feature variables have been mean centered and scaled by the standard deviation times the square root of `n_samples` (i.e. the sum of squares of each column totals 1).\n",
      "\n",
      "Source URL:\n",
      "https://www4.stat.ncsu.edu/~boos/var.select/diabetes.html\n",
      "\n",
      "For more information see:\n",
      "Bradley Efron, Trevor Hastie, Iain Johnstone and Robert Tibshirani (2004) \"Least Angle Regression,\" Annals of Statistics (with discussion), 407-499.\n",
      "(https://web.stanford.edu/~hastie/Papers/LARS/LeastAngle_2002.pdf)\n",
      "\n"
     ]
    }
   ],
   "source": [
    "print(data.DESCR)"
   ]
  },
  {
   "cell_type": "code",
   "execution_count": 66,
   "id": "aa90c4d3",
   "metadata": {},
   "outputs": [],
   "source": [
    "from sklearn.model_selection import train_test_split\n",
    "X_train,X_test,Y_train,Y_test=train_test_split(X,Y,test_size=0.15,random_state=42)"
   ]
  },
  {
   "cell_type": "code",
   "execution_count": 67,
   "id": "6ff21cbf",
   "metadata": {},
   "outputs": [],
   "source": [
    "x=data.data"
   ]
  },
  {
   "cell_type": "code",
   "execution_count": 68,
   "id": "41bd6134",
   "metadata": {},
   "outputs": [
    {
     "data": {
      "text/plain": [
       "array([[ 0.03807591,  0.05068012,  0.06169621, ..., -0.00259226,\n",
       "         0.01990749, -0.01764613],\n",
       "       [-0.00188202, -0.04464164, -0.05147406, ..., -0.03949338,\n",
       "        -0.06833155, -0.09220405],\n",
       "       [ 0.08529891,  0.05068012,  0.04445121, ..., -0.00259226,\n",
       "         0.00286131, -0.02593034],\n",
       "       ...,\n",
       "       [ 0.04170844,  0.05068012, -0.01590626, ..., -0.01107952,\n",
       "        -0.04688253,  0.01549073],\n",
       "       [-0.04547248, -0.04464164,  0.03906215, ...,  0.02655962,\n",
       "         0.04452873, -0.02593034],\n",
       "       [-0.04547248, -0.04464164, -0.0730303 , ..., -0.03949338,\n",
       "        -0.00422151,  0.00306441]])"
      ]
     },
     "execution_count": 68,
     "metadata": {},
     "output_type": "execute_result"
    }
   ],
   "source": [
    "x"
   ]
  },
  {
   "cell_type": "code",
   "execution_count": 69,
   "id": "6dcd35a2",
   "metadata": {},
   "outputs": [],
   "source": [
    "y=data.target"
   ]
  },
  {
   "cell_type": "code",
   "execution_count": 70,
   "id": "38e86cc6",
   "metadata": {},
   "outputs": [
    {
     "data": {
      "text/plain": [
       "array([151.,  75., 141., 206., 135.,  97., 138.,  63., 110., 310., 101.,\n",
       "        69., 179., 185., 118., 171., 166., 144.,  97., 168.,  68.,  49.,\n",
       "        68., 245., 184., 202., 137.,  85., 131., 283., 129.,  59., 341.,\n",
       "        87.,  65., 102., 265., 276., 252.,  90., 100.,  55.,  61.,  92.,\n",
       "       259.,  53., 190., 142.,  75., 142., 155., 225.,  59., 104., 182.,\n",
       "       128.,  52.,  37., 170., 170.,  61., 144.,  52., 128.,  71., 163.,\n",
       "       150.,  97., 160., 178.,  48., 270., 202., 111.,  85.,  42., 170.,\n",
       "       200., 252., 113., 143.,  51.,  52., 210.,  65., 141.,  55., 134.,\n",
       "        42., 111.,  98., 164.,  48.,  96.,  90., 162., 150., 279.,  92.,\n",
       "        83., 128., 102., 302., 198.,  95.,  53., 134., 144., 232.,  81.,\n",
       "       104.,  59., 246., 297., 258., 229., 275., 281., 179., 200., 200.,\n",
       "       173., 180.,  84., 121., 161.,  99., 109., 115., 268., 274., 158.,\n",
       "       107.,  83., 103., 272.,  85., 280., 336., 281., 118., 317., 235.,\n",
       "        60., 174., 259., 178., 128.,  96., 126., 288.,  88., 292.,  71.,\n",
       "       197., 186.,  25.,  84.,  96., 195.,  53., 217., 172., 131., 214.,\n",
       "        59.,  70., 220., 268., 152.,  47.,  74., 295., 101., 151., 127.,\n",
       "       237., 225.,  81., 151., 107.,  64., 138., 185., 265., 101., 137.,\n",
       "       143., 141.,  79., 292., 178.,  91., 116.,  86., 122.,  72., 129.,\n",
       "       142.,  90., 158.,  39., 196., 222., 277.,  99., 196., 202., 155.,\n",
       "        77., 191.,  70.,  73.,  49.,  65., 263., 248., 296., 214., 185.,\n",
       "        78.,  93., 252., 150.,  77., 208.,  77., 108., 160.,  53., 220.,\n",
       "       154., 259.,  90., 246., 124.,  67.,  72., 257., 262., 275., 177.,\n",
       "        71.,  47., 187., 125.,  78.,  51., 258., 215., 303., 243.,  91.,\n",
       "       150., 310., 153., 346.,  63.,  89.,  50.,  39., 103., 308., 116.,\n",
       "       145.,  74.,  45., 115., 264.,  87., 202., 127., 182., 241.,  66.,\n",
       "        94., 283.,  64., 102., 200., 265.,  94., 230., 181., 156., 233.,\n",
       "        60., 219.,  80.,  68., 332., 248.,  84., 200.,  55.,  85.,  89.,\n",
       "        31., 129.,  83., 275.,  65., 198., 236., 253., 124.,  44., 172.,\n",
       "       114., 142., 109., 180., 144., 163., 147.,  97., 220., 190., 109.,\n",
       "       191., 122., 230., 242., 248., 249., 192., 131., 237.,  78., 135.,\n",
       "       244., 199., 270., 164.,  72.,  96., 306.,  91., 214.,  95., 216.,\n",
       "       263., 178., 113., 200., 139., 139.,  88., 148.,  88., 243.,  71.,\n",
       "        77., 109., 272.,  60.,  54., 221.,  90., 311., 281., 182., 321.,\n",
       "        58., 262., 206., 233., 242., 123., 167.,  63., 197.,  71., 168.,\n",
       "       140., 217., 121., 235., 245.,  40.,  52., 104., 132.,  88.,  69.,\n",
       "       219.,  72., 201., 110.,  51., 277.,  63., 118.,  69., 273., 258.,\n",
       "        43., 198., 242., 232., 175.,  93., 168., 275., 293., 281.,  72.,\n",
       "       140., 189., 181., 209., 136., 261., 113., 131., 174., 257.,  55.,\n",
       "        84.,  42., 146., 212., 233.,  91., 111., 152., 120.,  67., 310.,\n",
       "        94., 183.,  66., 173.,  72.,  49.,  64.,  48., 178., 104., 132.,\n",
       "       220.,  57.])"
      ]
     },
     "execution_count": 70,
     "metadata": {},
     "output_type": "execute_result"
    }
   ],
   "source": [
    "y"
   ]
  },
  {
   "cell_type": "code",
   "execution_count": 71,
   "id": "fdd99597",
   "metadata": {},
   "outputs": [],
   "source": [
    "from sklearn.model_selection import train_test_split\n",
    "X_train,X_test,Y_train,Y_test=train_test_split(X,Y,test_size=0.15,random_state=42)"
   ]
  },
  {
   "cell_type": "code",
   "execution_count": 72,
   "id": "14fe1a0c",
   "metadata": {},
   "outputs": [
    {
     "data": {
      "text/plain": [
       "array([[ 0.11008281, -0.74592266],\n",
       "       [ 0.51622996, -0.64982581],\n",
       "       [-0.79968373,  1.83538166],\n",
       "       [-0.26068118,  0.62270954],\n",
       "       [-1.43463494,  0.86349609],\n",
       "       [ 0.99799639, -1.02683914],\n",
       "       [ 0.33520958, -0.49750936],\n",
       "       [-1.82137063, -0.44461475],\n",
       "       [ 0.32758972,  0.98047299],\n",
       "       [ 0.45807989,  0.49730388],\n",
       "       [-0.02374086,  0.08382292],\n",
       "       [-0.37050504, -0.61291152],\n",
       "       [ 1.07575353, -0.51212849],\n",
       "       [ 0.60818237, -0.63429255],\n",
       "       [-0.21451614,  2.08278257],\n",
       "       [-1.23146443, -0.12117295],\n",
       "       [ 1.4386243 ,  1.20429863],\n",
       "       [-1.46079034,  0.62457503],\n",
       "       [-1.31320377,  0.15246449],\n",
       "       [ 1.7127199 , -1.09013785],\n",
       "       [-1.31176524, -1.28581394],\n",
       "       [ 1.14697557, -0.86038363],\n",
       "       [-0.78637853, -2.51987044],\n",
       "       [-2.07480887, -1.3771089 ],\n",
       "       [ 0.72190198,  0.89670241],\n",
       "       [-0.40087619, -1.00131462],\n",
       "       [ 1.49097535, -1.45186405],\n",
       "       [ 1.22945399,  0.25493272],\n",
       "       [ 1.59704011,  0.80269315],\n",
       "       [-1.41713585,  1.94524513],\n",
       "       [ 0.62183393, -1.03803799],\n",
       "       [ 0.61709074,  0.4812889 ],\n",
       "       [-1.57265517,  0.11636464],\n",
       "       [-0.44419124,  1.54705627],\n",
       "       [-0.06879851,  1.58160485],\n",
       "       [ 0.37683295, -0.20277896],\n",
       "       [-1.40843372, -0.61809616],\n",
       "       [-0.93422127, -1.02490906],\n",
       "       [ 0.35007095, -0.13640079],\n",
       "       [-1.10620146, -0.32355809],\n",
       "       [-0.16068854,  1.85891751],\n",
       "       [-0.02005512, -0.12801257],\n",
       "       [-1.46997265,  1.11840988],\n",
       "       [-0.05076528,  1.34889773],\n",
       "       [-0.16065083,  0.81253156],\n",
       "       [-2.09183687,  2.59983973],\n",
       "       [-2.07537395,  0.9221867 ],\n",
       "       [-0.04595865,  0.91688447],\n",
       "       [-0.50844464,  0.63557153],\n",
       "       [-0.59353388,  0.40260987],\n",
       "       [-0.77455625, -0.16740457],\n",
       "       [-0.2646163 , -0.47112683],\n",
       "       [ 0.27354417, -0.58069304],\n",
       "       [-0.11542618,  0.80559878],\n",
       "       [ 0.94156746,  0.22724796],\n",
       "       [ 0.54934339, -0.27482014],\n",
       "       [-1.70882199,  0.3921368 ],\n",
       "       [ 0.01839487, -0.73476891],\n",
       "       [-0.42872216, -0.30608987],\n",
       "       [ 0.54816892,  0.61988235],\n",
       "       [ 0.54673301, -0.41142385],\n",
       "       [-1.65707993, -0.83366022],\n",
       "       [-1.01581038,  1.09111205],\n",
       "       [-0.18941008,  0.4083964 ],\n",
       "       [-1.08644556, -0.74846382],\n",
       "       [ 1.05873486, -1.4396417 ],\n",
       "       [ 1.06550347,  1.08390481],\n",
       "       [-0.5511152 , -0.39334501],\n",
       "       [ 1.25821427,  0.96209612],\n",
       "       [-1.35258278,  0.42834408],\n",
       "       [ 0.7048919 , -1.04335063],\n",
       "       [ 0.05328853,  1.47656567],\n",
       "       [-1.64914268,  0.97301519],\n",
       "       [ 0.20636495,  0.40701433],\n",
       "       [ 0.16456958,  1.30018581],\n",
       "       [-0.37772254,  0.30928542],\n",
       "       [-0.50785767, -0.19882865],\n",
       "       [-0.99958385,  1.11205567],\n",
       "       [ 1.40322855,  0.05729141],\n",
       "       [ 0.59723854, -0.92230007],\n",
       "       [-1.14098903,  1.31875663],\n",
       "       [-2.09656762,  2.08429013],\n",
       "       [-2.00845423, -0.18494294],\n",
       "       [ 0.25845291,  1.6256231 ],\n",
       "       [ 0.83429216, -0.04789552],\n",
       "       [-1.64249483,  0.61989511],\n",
       "       [ 0.04119736,  1.0777381 ],\n",
       "       [ 0.04780913, -0.75160362],\n",
       "       [-1.51425809,  0.51284494],\n",
       "       [-0.16089217, -0.72524376],\n",
       "       [ 0.47519579,  0.43902798],\n",
       "       [ 0.08273056,  0.55642227],\n",
       "       [ 1.01983366, -1.62490883],\n",
       "       [-2.62418147, -0.28403213],\n",
       "       [ 0.89150958, -0.64542708],\n",
       "       [-0.26808745,  0.10334285],\n",
       "       [-1.88945868,  0.03392599],\n",
       "       [ 1.42040201, -0.89943558],\n",
       "       [-0.23545538,  1.97331806],\n",
       "       [ 1.10783848, -2.15605961],\n",
       "       [-1.42178549, -0.9463793 ],\n",
       "       [-0.47056056, -0.86105626],\n",
       "       [ 0.80637889, -0.43247438],\n",
       "       [-0.00642049,  0.50242495],\n",
       "       [-0.81184231, -0.36540337],\n",
       "       [ 0.73860839,  1.0984272 ],\n",
       "       [-2.01631819,  0.33424911],\n",
       "       [-0.89233108,  1.28129088],\n",
       "       [ 0.2022228 ,  1.06257122],\n",
       "       [ 0.31784023,  0.49371208],\n",
       "       [ 1.25690209,  1.12591208],\n",
       "       [-1.58317755,  0.39200638],\n",
       "       [-0.05110702, -1.92148776],\n",
       "       [ 1.00298762,  0.0910877 ],\n",
       "       [-0.48263477,  0.341012  ],\n",
       "       [ 2.17754695, -0.9221583 ],\n",
       "       [ 0.62174945,  0.53236418],\n",
       "       [ 0.85065605,  0.73468597],\n",
       "       [ 0.45064505, -0.27530262],\n",
       "       [ 0.76654782, -1.60305667],\n",
       "       [ 0.12555262, -0.02231368],\n",
       "       [ 0.06270228, -1.1820918 ],\n",
       "       [-0.02625397,  0.29001772],\n",
       "       [-0.80203243, -0.84819644],\n",
       "       [ 0.37500898,  0.14401933],\n",
       "       [-1.12256518, -0.97433799],\n",
       "       [-1.42019159, -0.60605307]])"
      ]
     },
     "execution_count": 72,
     "metadata": {},
     "output_type": "execute_result"
    }
   ],
   "source": [
    "x_train"
   ]
  },
  {
   "cell_type": "code",
   "execution_count": 73,
   "id": "6094bb6d",
   "metadata": {},
   "outputs": [
    {
     "data": {
      "text/plain": [
       "array([ -73.99264589,   36.54523181,   91.43071391,   30.8657006 ,\n",
       "        -88.97706504,  -60.24956905,  -38.89148064, -142.53442938,\n",
       "        130.52136489,    6.02113366,   86.38295353,  -41.55833039,\n",
       "        -42.45523757,  -35.92006677,  130.90978934,  -72.35890299,\n",
       "        216.65256822,  -35.48767613,   -7.07923309,   23.53257377,\n",
       "       -204.33349814,   20.80860983, -259.96170717, -185.04964705,\n",
       "         54.47096985, -120.59580332,  -60.47659583,   29.70423367,\n",
       "         49.59223505,   67.68111422,  -85.95206128,   58.44160207,\n",
       "          1.93049204,   72.37119982,  119.43091685,  -32.47377834,\n",
       "       -173.75683487,  -88.58891628,  -26.0537331 ,  -89.35498566,\n",
       "        117.22261079,  -11.96243625,   13.35724284,  109.85366476,\n",
       "         31.81890825,  121.46147515,  -18.20255649,   54.30543253,\n",
       "         45.13672795,   25.83817905, -119.42879354,  -71.77865922,\n",
       "        -60.89355655,   69.27547153,  129.33014561,  -18.83639103,\n",
       "       -101.9848452 ,  -45.99496736,  -22.46116559,   78.89141148,\n",
       "        -34.1899594 , -146.26106971,  111.90877385,  -24.26708323,\n",
       "        -88.12392635,  -53.64708256,   99.71559276,  -25.00739147,\n",
       "        143.74993532,  -44.68135848,  -78.64323891,   82.53072054,\n",
       "        -49.36152661,   19.77850548,  162.1406558 ,  -32.25527735,\n",
       "        -91.25545658,  -20.77548633,   59.89351924,  -53.45430413,\n",
       "         29.70593226,   -6.96262819,  -99.94635515,  198.78995123,\n",
       "         90.90827495,  -88.02952609,   96.6559903 ,   -7.57521759,\n",
       "        -47.63137336,  -97.20058684,   65.4308052 ,   -4.99583315,\n",
       "       -104.23038801, -115.50804242,    9.40667309,  -39.4500359 ,\n",
       "       -136.05607166,   26.60119925,  255.42012401,  -44.22540535,\n",
       "       -151.62852652, -171.4600426 ,  -16.16756699,   86.05574465,\n",
       "        -89.15398908,  121.39642618,  -20.61803514,   50.58608596,\n",
       "         17.73187338,    0.60631814,  101.63002693,  -70.22071307,\n",
       "       -129.80951381,   96.29039751,  -71.42291397,   32.73589308,\n",
       "         69.72798969,  153.42751998,   20.38477502,  -55.72339157,\n",
       "         37.33104681,   -1.09707408,   -4.6561112 ,  -97.88138201,\n",
       "         55.2453336 , -114.06981324, -117.22186068])"
      ]
     },
     "execution_count": 73,
     "metadata": {},
     "output_type": "execute_result"
    }
   ],
   "source": [
    "y_train"
   ]
  },
  {
   "cell_type": "code",
   "execution_count": 76,
   "id": "da420579",
   "metadata": {},
   "outputs": [],
   "source": [
    "model3=LinearRegression()"
   ]
  },
  {
   "cell_type": "code",
   "execution_count": 77,
   "id": "560d48bf",
   "metadata": {},
   "outputs": [
    {
     "data": {
      "text/html": [
       "<style>#sk-container-id-3 {color: black;background-color: white;}#sk-container-id-3 pre{padding: 0;}#sk-container-id-3 div.sk-toggleable {background-color: white;}#sk-container-id-3 label.sk-toggleable__label {cursor: pointer;display: block;width: 100%;margin-bottom: 0;padding: 0.3em;box-sizing: border-box;text-align: center;}#sk-container-id-3 label.sk-toggleable__label-arrow:before {content: \"▸\";float: left;margin-right: 0.25em;color: #696969;}#sk-container-id-3 label.sk-toggleable__label-arrow:hover:before {color: black;}#sk-container-id-3 div.sk-estimator:hover label.sk-toggleable__label-arrow:before {color: black;}#sk-container-id-3 div.sk-toggleable__content {max-height: 0;max-width: 0;overflow: hidden;text-align: left;background-color: #f0f8ff;}#sk-container-id-3 div.sk-toggleable__content pre {margin: 0.2em;color: black;border-radius: 0.25em;background-color: #f0f8ff;}#sk-container-id-3 input.sk-toggleable__control:checked~div.sk-toggleable__content {max-height: 200px;max-width: 100%;overflow: auto;}#sk-container-id-3 input.sk-toggleable__control:checked~label.sk-toggleable__label-arrow:before {content: \"▾\";}#sk-container-id-3 div.sk-estimator input.sk-toggleable__control:checked~label.sk-toggleable__label {background-color: #d4ebff;}#sk-container-id-3 div.sk-label input.sk-toggleable__control:checked~label.sk-toggleable__label {background-color: #d4ebff;}#sk-container-id-3 input.sk-hidden--visually {border: 0;clip: rect(1px 1px 1px 1px);clip: rect(1px, 1px, 1px, 1px);height: 1px;margin: -1px;overflow: hidden;padding: 0;position: absolute;width: 1px;}#sk-container-id-3 div.sk-estimator {font-family: monospace;background-color: #f0f8ff;border: 1px dotted black;border-radius: 0.25em;box-sizing: border-box;margin-bottom: 0.5em;}#sk-container-id-3 div.sk-estimator:hover {background-color: #d4ebff;}#sk-container-id-3 div.sk-parallel-item::after {content: \"\";width: 100%;border-bottom: 1px solid gray;flex-grow: 1;}#sk-container-id-3 div.sk-label:hover label.sk-toggleable__label {background-color: #d4ebff;}#sk-container-id-3 div.sk-serial::before {content: \"\";position: absolute;border-left: 1px solid gray;box-sizing: border-box;top: 0;bottom: 0;left: 50%;z-index: 0;}#sk-container-id-3 div.sk-serial {display: flex;flex-direction: column;align-items: center;background-color: white;padding-right: 0.2em;padding-left: 0.2em;position: relative;}#sk-container-id-3 div.sk-item {position: relative;z-index: 1;}#sk-container-id-3 div.sk-parallel {display: flex;align-items: stretch;justify-content: center;background-color: white;position: relative;}#sk-container-id-3 div.sk-item::before, #sk-container-id-3 div.sk-parallel-item::before {content: \"\";position: absolute;border-left: 1px solid gray;box-sizing: border-box;top: 0;bottom: 0;left: 50%;z-index: -1;}#sk-container-id-3 div.sk-parallel-item {display: flex;flex-direction: column;z-index: 1;position: relative;background-color: white;}#sk-container-id-3 div.sk-parallel-item:first-child::after {align-self: flex-end;width: 50%;}#sk-container-id-3 div.sk-parallel-item:last-child::after {align-self: flex-start;width: 50%;}#sk-container-id-3 div.sk-parallel-item:only-child::after {width: 0;}#sk-container-id-3 div.sk-dashed-wrapped {border: 1px dashed gray;margin: 0 0.4em 0.5em 0.4em;box-sizing: border-box;padding-bottom: 0.4em;background-color: white;}#sk-container-id-3 div.sk-label label {font-family: monospace;font-weight: bold;display: inline-block;line-height: 1.2em;}#sk-container-id-3 div.sk-label-container {text-align: center;}#sk-container-id-3 div.sk-container {/* jupyter's `normalize.less` sets `[hidden] { display: none; }` but bootstrap.min.css set `[hidden] { display: none !important; }` so we also need the `!important` here to be able to override the default hidden behavior on the sphinx rendered scikit-learn.org. See: https://github.com/scikit-learn/scikit-learn/issues/21755 */display: inline-block !important;position: relative;}#sk-container-id-3 div.sk-text-repr-fallback {display: none;}</style><div id=\"sk-container-id-3\" class=\"sk-top-container\"><div class=\"sk-text-repr-fallback\"><pre>LinearRegression()</pre><b>In a Jupyter environment, please rerun this cell to show the HTML representation or trust the notebook. <br />On GitHub, the HTML representation is unable to render, please try loading this page with nbviewer.org.</b></div><div class=\"sk-container\" hidden><div class=\"sk-item\"><div class=\"sk-estimator sk-toggleable\"><input class=\"sk-toggleable__control sk-hidden--visually\" id=\"sk-estimator-id-3\" type=\"checkbox\" checked><label for=\"sk-estimator-id-3\" class=\"sk-toggleable__label sk-toggleable__label-arrow\">LinearRegression</label><div class=\"sk-toggleable__content\"><pre>LinearRegression()</pre></div></div></div></div></div>"
      ],
      "text/plain": [
       "LinearRegression()"
      ]
     },
     "execution_count": 77,
     "metadata": {},
     "output_type": "execute_result"
    }
   ],
   "source": [
    "model3.fit(x_train,y_train)"
   ]
  },
  {
   "cell_type": "code",
   "execution_count": 78,
   "id": "2ec5e9bf",
   "metadata": {},
   "outputs": [
    {
     "data": {
      "text/plain": [
       "0.8125201260150277"
      ]
     },
     "execution_count": 78,
     "metadata": {},
     "output_type": "execute_result"
    }
   ],
   "source": [
    "model3.score(x_train,y_train)"
   ]
  },
  {
   "cell_type": "code",
   "execution_count": null,
   "id": "d8759db7",
   "metadata": {},
   "outputs": [],
   "source": [
    "#for training the score is 0.812"
   ]
  },
  {
   "cell_type": "code",
   "execution_count": 80,
   "id": "33a323e0",
   "metadata": {},
   "outputs": [],
   "source": [
    "y_pred3=model3.predict(x_test)"
   ]
  },
  {
   "cell_type": "code",
   "execution_count": 81,
   "id": "e2156c46",
   "metadata": {},
   "outputs": [
    {
     "data": {
      "text/plain": [
       "0.8569585323690404"
      ]
     },
     "execution_count": 81,
     "metadata": {},
     "output_type": "execute_result"
    }
   ],
   "source": [
    "r2_score(y_test,y_pred3)"
   ]
  },
  {
   "cell_type": "code",
   "execution_count": null,
   "id": "f1228ad9",
   "metadata": {},
   "outputs": [],
   "source": []
  },
  {
   "cell_type": "code",
   "execution_count": null,
   "id": "7d98df2f",
   "metadata": {},
   "outputs": [],
   "source": [
    "#for training the score is 0.8569"
   ]
  },
  {
   "cell_type": "markdown",
   "id": "ecb377e3",
   "metadata": {},
   "source": [
    "### Ridge Regression"
   ]
  },
  {
   "cell_type": "code",
   "execution_count": 82,
   "id": "8355288b",
   "metadata": {},
   "outputs": [],
   "source": [
    "from sklearn.linear_model import Ridge"
   ]
  },
  {
   "cell_type": "code",
   "execution_count": 83,
   "id": "88ff4215",
   "metadata": {},
   "outputs": [],
   "source": [
    "model4=Ridge()"
   ]
  },
  {
   "cell_type": "code",
   "execution_count": 85,
   "id": "70fa3af0",
   "metadata": {},
   "outputs": [
    {
     "data": {
      "text/html": [
       "<style>#sk-container-id-4 {color: black;background-color: white;}#sk-container-id-4 pre{padding: 0;}#sk-container-id-4 div.sk-toggleable {background-color: white;}#sk-container-id-4 label.sk-toggleable__label {cursor: pointer;display: block;width: 100%;margin-bottom: 0;padding: 0.3em;box-sizing: border-box;text-align: center;}#sk-container-id-4 label.sk-toggleable__label-arrow:before {content: \"▸\";float: left;margin-right: 0.25em;color: #696969;}#sk-container-id-4 label.sk-toggleable__label-arrow:hover:before {color: black;}#sk-container-id-4 div.sk-estimator:hover label.sk-toggleable__label-arrow:before {color: black;}#sk-container-id-4 div.sk-toggleable__content {max-height: 0;max-width: 0;overflow: hidden;text-align: left;background-color: #f0f8ff;}#sk-container-id-4 div.sk-toggleable__content pre {margin: 0.2em;color: black;border-radius: 0.25em;background-color: #f0f8ff;}#sk-container-id-4 input.sk-toggleable__control:checked~div.sk-toggleable__content {max-height: 200px;max-width: 100%;overflow: auto;}#sk-container-id-4 input.sk-toggleable__control:checked~label.sk-toggleable__label-arrow:before {content: \"▾\";}#sk-container-id-4 div.sk-estimator input.sk-toggleable__control:checked~label.sk-toggleable__label {background-color: #d4ebff;}#sk-container-id-4 div.sk-label input.sk-toggleable__control:checked~label.sk-toggleable__label {background-color: #d4ebff;}#sk-container-id-4 input.sk-hidden--visually {border: 0;clip: rect(1px 1px 1px 1px);clip: rect(1px, 1px, 1px, 1px);height: 1px;margin: -1px;overflow: hidden;padding: 0;position: absolute;width: 1px;}#sk-container-id-4 div.sk-estimator {font-family: monospace;background-color: #f0f8ff;border: 1px dotted black;border-radius: 0.25em;box-sizing: border-box;margin-bottom: 0.5em;}#sk-container-id-4 div.sk-estimator:hover {background-color: #d4ebff;}#sk-container-id-4 div.sk-parallel-item::after {content: \"\";width: 100%;border-bottom: 1px solid gray;flex-grow: 1;}#sk-container-id-4 div.sk-label:hover label.sk-toggleable__label {background-color: #d4ebff;}#sk-container-id-4 div.sk-serial::before {content: \"\";position: absolute;border-left: 1px solid gray;box-sizing: border-box;top: 0;bottom: 0;left: 50%;z-index: 0;}#sk-container-id-4 div.sk-serial {display: flex;flex-direction: column;align-items: center;background-color: white;padding-right: 0.2em;padding-left: 0.2em;position: relative;}#sk-container-id-4 div.sk-item {position: relative;z-index: 1;}#sk-container-id-4 div.sk-parallel {display: flex;align-items: stretch;justify-content: center;background-color: white;position: relative;}#sk-container-id-4 div.sk-item::before, #sk-container-id-4 div.sk-parallel-item::before {content: \"\";position: absolute;border-left: 1px solid gray;box-sizing: border-box;top: 0;bottom: 0;left: 50%;z-index: -1;}#sk-container-id-4 div.sk-parallel-item {display: flex;flex-direction: column;z-index: 1;position: relative;background-color: white;}#sk-container-id-4 div.sk-parallel-item:first-child::after {align-self: flex-end;width: 50%;}#sk-container-id-4 div.sk-parallel-item:last-child::after {align-self: flex-start;width: 50%;}#sk-container-id-4 div.sk-parallel-item:only-child::after {width: 0;}#sk-container-id-4 div.sk-dashed-wrapped {border: 1px dashed gray;margin: 0 0.4em 0.5em 0.4em;box-sizing: border-box;padding-bottom: 0.4em;background-color: white;}#sk-container-id-4 div.sk-label label {font-family: monospace;font-weight: bold;display: inline-block;line-height: 1.2em;}#sk-container-id-4 div.sk-label-container {text-align: center;}#sk-container-id-4 div.sk-container {/* jupyter's `normalize.less` sets `[hidden] { display: none; }` but bootstrap.min.css set `[hidden] { display: none !important; }` so we also need the `!important` here to be able to override the default hidden behavior on the sphinx rendered scikit-learn.org. See: https://github.com/scikit-learn/scikit-learn/issues/21755 */display: inline-block !important;position: relative;}#sk-container-id-4 div.sk-text-repr-fallback {display: none;}</style><div id=\"sk-container-id-4\" class=\"sk-top-container\"><div class=\"sk-text-repr-fallback\"><pre>Ridge()</pre><b>In a Jupyter environment, please rerun this cell to show the HTML representation or trust the notebook. <br />On GitHub, the HTML representation is unable to render, please try loading this page with nbviewer.org.</b></div><div class=\"sk-container\" hidden><div class=\"sk-item\"><div class=\"sk-estimator sk-toggleable\"><input class=\"sk-toggleable__control sk-hidden--visually\" id=\"sk-estimator-id-4\" type=\"checkbox\" checked><label for=\"sk-estimator-id-4\" class=\"sk-toggleable__label sk-toggleable__label-arrow\">Ridge</label><div class=\"sk-toggleable__content\"><pre>Ridge()</pre></div></div></div></div></div>"
      ],
      "text/plain": [
       "Ridge()"
      ]
     },
     "execution_count": 85,
     "metadata": {},
     "output_type": "execute_result"
    }
   ],
   "source": [
    "model4.fit(x_train,y_train)"
   ]
  },
  {
   "cell_type": "code",
   "execution_count": 87,
   "id": "607e6818",
   "metadata": {},
   "outputs": [
    {
     "data": {
      "text/plain": [
       "0.8124466321625148"
      ]
     },
     "execution_count": 87,
     "metadata": {},
     "output_type": "execute_result"
    }
   ],
   "source": [
    "model4.score(x_train,y_train)"
   ]
  },
  {
   "cell_type": "code",
   "execution_count": 88,
   "id": "42a27ba8",
   "metadata": {},
   "outputs": [],
   "source": [
    "y_pred4=model4.predict(x_test)"
   ]
  },
  {
   "cell_type": "code",
   "execution_count": 89,
   "id": "c65653a9",
   "metadata": {},
   "outputs": [
    {
     "data": {
      "text/plain": [
       "0.8564962437522021"
      ]
     },
     "execution_count": 89,
     "metadata": {},
     "output_type": "execute_result"
    }
   ],
   "source": [
    "r2_score(y_test,y_pred4)"
   ]
  },
  {
   "cell_type": "code",
   "execution_count": 92,
   "id": "1f1c5bc7",
   "metadata": {},
   "outputs": [],
   "source": [
    "model5=Ridge(alpha=0.01)"
   ]
  },
  {
   "cell_type": "code",
   "execution_count": 94,
   "id": "44c4ca9d",
   "metadata": {},
   "outputs": [
    {
     "data": {
      "text/html": [
       "<style>#sk-container-id-5 {color: black;background-color: white;}#sk-container-id-5 pre{padding: 0;}#sk-container-id-5 div.sk-toggleable {background-color: white;}#sk-container-id-5 label.sk-toggleable__label {cursor: pointer;display: block;width: 100%;margin-bottom: 0;padding: 0.3em;box-sizing: border-box;text-align: center;}#sk-container-id-5 label.sk-toggleable__label-arrow:before {content: \"▸\";float: left;margin-right: 0.25em;color: #696969;}#sk-container-id-5 label.sk-toggleable__label-arrow:hover:before {color: black;}#sk-container-id-5 div.sk-estimator:hover label.sk-toggleable__label-arrow:before {color: black;}#sk-container-id-5 div.sk-toggleable__content {max-height: 0;max-width: 0;overflow: hidden;text-align: left;background-color: #f0f8ff;}#sk-container-id-5 div.sk-toggleable__content pre {margin: 0.2em;color: black;border-radius: 0.25em;background-color: #f0f8ff;}#sk-container-id-5 input.sk-toggleable__control:checked~div.sk-toggleable__content {max-height: 200px;max-width: 100%;overflow: auto;}#sk-container-id-5 input.sk-toggleable__control:checked~label.sk-toggleable__label-arrow:before {content: \"▾\";}#sk-container-id-5 div.sk-estimator input.sk-toggleable__control:checked~label.sk-toggleable__label {background-color: #d4ebff;}#sk-container-id-5 div.sk-label input.sk-toggleable__control:checked~label.sk-toggleable__label {background-color: #d4ebff;}#sk-container-id-5 input.sk-hidden--visually {border: 0;clip: rect(1px 1px 1px 1px);clip: rect(1px, 1px, 1px, 1px);height: 1px;margin: -1px;overflow: hidden;padding: 0;position: absolute;width: 1px;}#sk-container-id-5 div.sk-estimator {font-family: monospace;background-color: #f0f8ff;border: 1px dotted black;border-radius: 0.25em;box-sizing: border-box;margin-bottom: 0.5em;}#sk-container-id-5 div.sk-estimator:hover {background-color: #d4ebff;}#sk-container-id-5 div.sk-parallel-item::after {content: \"\";width: 100%;border-bottom: 1px solid gray;flex-grow: 1;}#sk-container-id-5 div.sk-label:hover label.sk-toggleable__label {background-color: #d4ebff;}#sk-container-id-5 div.sk-serial::before {content: \"\";position: absolute;border-left: 1px solid gray;box-sizing: border-box;top: 0;bottom: 0;left: 50%;z-index: 0;}#sk-container-id-5 div.sk-serial {display: flex;flex-direction: column;align-items: center;background-color: white;padding-right: 0.2em;padding-left: 0.2em;position: relative;}#sk-container-id-5 div.sk-item {position: relative;z-index: 1;}#sk-container-id-5 div.sk-parallel {display: flex;align-items: stretch;justify-content: center;background-color: white;position: relative;}#sk-container-id-5 div.sk-item::before, #sk-container-id-5 div.sk-parallel-item::before {content: \"\";position: absolute;border-left: 1px solid gray;box-sizing: border-box;top: 0;bottom: 0;left: 50%;z-index: -1;}#sk-container-id-5 div.sk-parallel-item {display: flex;flex-direction: column;z-index: 1;position: relative;background-color: white;}#sk-container-id-5 div.sk-parallel-item:first-child::after {align-self: flex-end;width: 50%;}#sk-container-id-5 div.sk-parallel-item:last-child::after {align-self: flex-start;width: 50%;}#sk-container-id-5 div.sk-parallel-item:only-child::after {width: 0;}#sk-container-id-5 div.sk-dashed-wrapped {border: 1px dashed gray;margin: 0 0.4em 0.5em 0.4em;box-sizing: border-box;padding-bottom: 0.4em;background-color: white;}#sk-container-id-5 div.sk-label label {font-family: monospace;font-weight: bold;display: inline-block;line-height: 1.2em;}#sk-container-id-5 div.sk-label-container {text-align: center;}#sk-container-id-5 div.sk-container {/* jupyter's `normalize.less` sets `[hidden] { display: none; }` but bootstrap.min.css set `[hidden] { display: none !important; }` so we also need the `!important` here to be able to override the default hidden behavior on the sphinx rendered scikit-learn.org. See: https://github.com/scikit-learn/scikit-learn/issues/21755 */display: inline-block !important;position: relative;}#sk-container-id-5 div.sk-text-repr-fallback {display: none;}</style><div id=\"sk-container-id-5\" class=\"sk-top-container\"><div class=\"sk-text-repr-fallback\"><pre>Ridge(alpha=0.01)</pre><b>In a Jupyter environment, please rerun this cell to show the HTML representation or trust the notebook. <br />On GitHub, the HTML representation is unable to render, please try loading this page with nbviewer.org.</b></div><div class=\"sk-container\" hidden><div class=\"sk-item\"><div class=\"sk-estimator sk-toggleable\"><input class=\"sk-toggleable__control sk-hidden--visually\" id=\"sk-estimator-id-5\" type=\"checkbox\" checked><label for=\"sk-estimator-id-5\" class=\"sk-toggleable__label sk-toggleable__label-arrow\">Ridge</label><div class=\"sk-toggleable__content\"><pre>Ridge(alpha=0.01)</pre></div></div></div></div></div>"
      ],
      "text/plain": [
       "Ridge(alpha=0.01)"
      ]
     },
     "execution_count": 94,
     "metadata": {},
     "output_type": "execute_result"
    }
   ],
   "source": [
    "model5.fit(x_train,y_train)"
   ]
  },
  {
   "cell_type": "code",
   "execution_count": 96,
   "id": "6d858efe",
   "metadata": {},
   "outputs": [
    {
     "data": {
      "text/plain": [
       "0.8125201185251569"
      ]
     },
     "execution_count": 96,
     "metadata": {},
     "output_type": "execute_result"
    }
   ],
   "source": [
    "model5.score(x_train,y_train)"
   ]
  },
  {
   "cell_type": "code",
   "execution_count": 99,
   "id": "bb20c553",
   "metadata": {},
   "outputs": [],
   "source": [
    "y_pred5=model5.predict(x_test)"
   ]
  },
  {
   "cell_type": "code",
   "execution_count": 100,
   "id": "f50ebe58",
   "metadata": {},
   "outputs": [
    {
     "data": {
      "text/plain": [
       "0.8569546100654524"
      ]
     },
     "execution_count": 100,
     "metadata": {},
     "output_type": "execute_result"
    }
   ],
   "source": [
    "r2_score(y_test,y_pred5)"
   ]
  },
  {
   "cell_type": "code",
   "execution_count": 101,
   "id": "13c4b582",
   "metadata": {},
   "outputs": [
    {
     "data": {
      "text/plain": [
       "0.8569546100654524"
      ]
     },
     "execution_count": 101,
     "metadata": {},
     "output_type": "execute_result"
    }
   ],
   "source": [
    "r2_score(y_test,y_pred5)"
   ]
  },
  {
   "cell_type": "code",
   "execution_count": 102,
   "id": "521de9ad",
   "metadata": {},
   "outputs": [
    {
     "data": {
      "text/plain": [
       "array([50.67254883, 75.33501519])"
      ]
     },
     "execution_count": 102,
     "metadata": {},
     "output_type": "execute_result"
    }
   ],
   "source": [
    "model5.coef_"
   ]
  },
  {
   "cell_type": "code",
   "execution_count": 103,
   "id": "bf2f491b",
   "metadata": {},
   "outputs": [
    {
     "data": {
      "text/plain": [
       "-3.870694104650389"
      ]
     },
     "execution_count": 103,
     "metadata": {},
     "output_type": "execute_result"
    }
   ],
   "source": [
    "model5.intercept_"
   ]
  },
  {
   "cell_type": "code",
   "execution_count": 104,
   "id": "3e286cc0",
   "metadata": {},
   "outputs": [
    {
     "name": "stdout",
     "output_type": "stream",
     "text": [
      "[21.43888398]\n",
      "-2.062146228874765\n"
     ]
    },
    {
     "data": {
      "image/png": "[encoded data removed]",
      "text/plain": [
       "<Figure size 640x480 with 1 Axes>"
      ]
     },
     "metadata": {},
     "output_type": "display_data"
    }
   ],
   "source": [
    "x,y = make_regression(n_samples=200, n_features=1, n_targets=1,noise=15,random_state=13)\n",
    "\n",
    "x_train,x_test,y_train,y_test = train_test_split(x,y,test_size=0.2)\n",
    "\n",
    "plt.scatter(x,y)\n",
    "\n",
    "from sklearn.linear_model import LinearRegression\n",
    "\n",
    "reg = LinearRegression()\n",
    "reg.fit(x_train,y_train)\n",
    "print(reg.coef_)\n",
    "print(reg.intercept_)"
   ]
  },
  {
   "cell_type": "code",
   "execution_count": 105,
   "id": "8e323b7e",
   "metadata": {},
   "outputs": [
    {
     "data": {
      "text/plain": [
       "0.6269797681938283"
      ]
     },
     "execution_count": 105,
     "metadata": {},
     "output_type": "execute_result"
    }
   ],
   "source": [
    "reg.score(x_train,y_train)"
   ]
  },
  {
   "cell_type": "code",
   "execution_count": 106,
   "id": "2d7d3343",
   "metadata": {},
   "outputs": [],
   "source": [
    "pred=reg.predict(x_test)"
   ]
  },
  {
   "cell_type": "code",
   "execution_count": 107,
   "id": "22fa8c98",
   "metadata": {},
   "outputs": [
    {
     "data": {
      "text/plain": [
       "0.627027358502136"
      ]
     },
     "execution_count": 107,
     "metadata": {},
     "output_type": "execute_result"
    }
   ],
   "source": [
    "r2_score(y_test,pred)"
   ]
  },
  {
   "cell_type": "markdown",
   "id": "65601376",
   "metadata": {},
   "source": [
    "## Lasso Regression"
   ]
  },
  {
   "cell_type": "code",
   "execution_count": 108,
   "id": "7eece85b",
   "metadata": {},
   "outputs": [],
   "source": [
    "from sklearn.linear_model import Lasso"
   ]
  },
  {
   "cell_type": "code",
   "execution_count": null,
   "id": "0add6d28",
   "metadata": {},
   "outputs": [],
   "source": []
  },
  {
   "cell_type": "code",
   "execution_count": 109,
   "id": "eeb8bc08",
   "metadata": {},
   "outputs": [],
   "source": [
    "model7=Lasso()"
   ]
  },
  {
   "cell_type": "code",
   "execution_count": 110,
   "id": "784dad59",
   "metadata": {},
   "outputs": [
    {
     "name": "stdout",
     "output_type": "stream",
     "text": [
      "0.6245479982296944\n"
     ]
    },
    {
     "data": {
      "text/plain": [
       "0.6169265430560656"
      ]
     },
     "execution_count": 110,
     "metadata": {},
     "output_type": "execute_result"
    }
   ],
   "source": [
    "model7.fit(x_train,y_train)\n",
    "score=model7.score(x_train,y_train)\n",
    "print(score)\n",
    "pred=model7.predict(x_test)\n",
    "r2_score(y_test,pred)"
   ]
  },
  {
   "cell_type": "code",
   "execution_count": 112,
   "id": "75727298",
   "metadata": {},
   "outputs": [
    {
     "name": "stdout",
     "output_type": "stream",
     "text": [
      "[18.83816048 64.55968825]\n",
      "1.4512607561654027\n",
      "[1.45126076]\n"
     ]
    }
   ],
   "source": [
    "from sklearn.linear_model import ElasticNet\n",
    "from sklearn.datasets import make_regression\n",
    "x, y = make_regression(n_features=2, random_state=0)\n",
    "regr = ElasticNet(random_state=0)\n",
    "regr.fit(x, y)\n",
    "\n",
    "print(regr.coef_)\n",
    "\n",
    "print(regr.intercept_)\n",
    "\n",
    "print(regr.predict([[0, 0]]))\n"
   ]
  },
  {
   "cell_type": "code",
   "execution_count": null,
   "id": "7fe90ef5",
   "metadata": {},
   "outputs": [],
   "source": []
  }
 ],
 "metadata": {
  "kernelspec": {
   "display_name": "Python 3 (ipykernel)",
   "language": "python",
   "name": "python3"
  },
  "language_info": {
   "codemirror_mode": {
    "name": "ipython",
    "version": 3
   },
   "file_extension": ".py",
   "mimetype": "text/x-python",
   "name": "python",
   "nbconvert_exporter": "python",
   "pygments_lexer": "ipython3",
   "version": "3.10.9"
  }
 },
 "nbformat": 4,
 "nbformat_minor": 5
}
